{
  "cells": [
    {
      "cell_type": "code",
      "execution_count": null,
      "metadata": {
        "id": "0LMjPqPy9FEI",
        "outputId": "aca47d71-a3c1-4e77-ca2f-2e16fd57789e"
      },
      "outputs": [
        {
          "data": {
            "text/markdown": [
              "# DOUBLE WISHBONE DIRECT ACTING\n",
              "\n",
              "**STANDALONE TOPOLOGY**\n",
              "\n",
              "------------------------------------------------\n",
              "\n",
              "### **Summary**\n",
              "\n",
              "A **double wishbone** mechanism is a type of  independent suspension mechanism used for automotive. It controls the motion of the wheel assembly via two control arms that are connected to the chassis from one end and to the wheel-carrier on the other end, which resembles a **four-bar linkage**, with the chassis being the ground, and the wheel-carrier being the coupler. The wheel-carrier is connected also to the chassis via a tie-rod that constrains the steering of the wheel-assembly as well. \n",
              "\n",
              "This kinematic chain is augmented with a another simple chain that controls the vertical motion of the wheel-assembly, this simple chain can be a direct-acting coil-over that is connected to either one of the control arms and the chassis, or can be a rocker-push/pull rod mechanism that is connected to the coil-over.\n",
              "\n",
              "![Figure 1 - System Layout](double_wishbone.png)\n",
              "\n",
              "*Figure 1 - [Double Wishbone Layout](https://github.com/khaledghobashy/uraeus_nmbd_cpp/blob/master/demos/double_wishbone_direct_acting/double_wishbone.png)*\n",
              "\n",
              "--------------------------------------\n",
              "\n",
              "### **Topology Layout**\n",
              "\n",
              "The mechanism consists of 7 Bodies per side, in addition to a steering-rack and the 'Ground' part. Therefore, total system coordinates -including the ground- is $n=n_b\\times7 = (7\\times2 + 2)\\times7 = 16\\times7 = 112$, where $n_b$ is the total number of bodies. [^1]\n",
              "\n",
              "The list of bodies is given below:\n",
              "\n",
              "- Upper Control Arm **(UCA)**.\n",
              "- Lower Control Arm **(LCA)**.\n",
              "- Upright.\n",
              "- Wheel Hub.\n",
              "- Tie-Rod.\n",
              "- CoilOver P1.\n",
              "- CoilOver P2.\n",
              "- Steering Rack.\n",
              "\n",
              "The system connectivity is given in the table below.\n",
              "\n",
              "<center>\n",
              "\n",
              "| Joint Name      | Body i        | Body j      |  Joint Type   | $n_c$ |\n",
              "| :-------------- | :------------ | :---------- | :-----------: | ----: |\n",
              "| UCA Outer Joint | UCA           | Upright     |   Spherical   |     3 |\n",
              "| LCA Outer Joint | LCA           | Upright     |   Spherical   |     3 |\n",
              "| Tie-Rod Outer   | Tie-Rod       | Upright     |   Spherical   |     3 |\n",
              "| UCA-Chassis     | UCA           | Chassis     |   Revolute    |     5 |\n",
              "| LCA-Chassis     | LCA           | Chassis     |   Revolute    |     5 |\n",
              "| Hub Bearing     | Wheel-Hub     | Upright     |   Revolute    |     5 |\n",
              "| Tie-Rod Inner   | Tie-Rod       | Chassis     |   Universal   |     4 |\n",
              "| CoilOver Top    | CoilOver P1   | Chassis     |   Universal   |     4 |\n",
              "| CoilOver Bottom | CoilOver P2   | LCA         |   Universal   |     4 |\n",
              "| CoilOver Cyl    | CoilOver P1   | CoilOver P2 |  Cylindrical  |     4 |\n",
              "| Rack-Chassis    | Steering Rack | Chassis     | Translational |     5 |\n",
              "| **Total**       |               |             |               |    45 |\n",
              "\n",
              "</center>\n",
              "\n",
              "</br>\n",
              "\n",
              "Hence, the total number of constraints equations is:\n",
              "$$ n_{c} = n_{c_j} + n_{c_p} + n_{c_g} = 85 + (16\\times 1) + 6 = 107 $$\n",
              "\n",
              "where:\n",
              "* $n_{c_j}$ is the joints constraints.\n",
              "* $n_{c_p}$ is the euler-parameters normalization constraints.\n",
              "* $n_{c_g}$ is the ground constraints.\n",
              "\n",
              "Therefore, the resulting **DOF** is:\n",
              "$$ n - n_c = 112 - 107 = 5 $$\n",
              "\n",
              "which can be interpreted in a convenient way as we have:\n",
              "- One rotational DOF for each wheel.\n",
              "- One translational DOF in the vertical direction for each wheel.\n",
              "- One translational DOF for the rack travel.\n",
              "\n",
              "By providing motion actuators to control these degrees of freedom by applying prescribed displacements, the system is then said to be **fully constrained** and can be simulated as a **kinematically driven system**.\n",
              "\n",
              "------------------------------------------------------\n",
              "<br/>\n",
              "\n",
              "[^1]: The tool uses [euler-parameters](https://en.wikibooks.org/wiki/Multibody_Mechanics/Euler_Parameters) -which is a 4D unit quaternion- to represents bodies orientation in space. This makes the generalized coordinates used to fully define a body in space to be **7,** instead of **6**, it also adds an algebraic equation to the constraints that ensures the unity/normalization of the body quaternion. This is an important remark as the calculations of the degrees-of-freedom depends on it.\n",
              "\n"
            ],
            "text/plain": [
              "<IPython.core.display.Markdown object>"
            ]
          },
          "metadata": {},
          "output_type": "display_data"
        }
      ],
      "source": [
        "from IPython.display import display, Markdown\n",
        "display(Markdown(filename=\"README.md\"))"
      ]
    },
    {
      "cell_type": "markdown",
      "metadata": {
        "id": "mh1mipFr9FEL"
      },
      "source": [
        "---------------------------------------------------------------\n",
        "---------------------------------------------------------------"
      ]
    },
    {
      "cell_type": "markdown",
      "metadata": {
        "id": "FfhpKp-d9FEM"
      },
      "source": [
        "# **IMPLEMENTATION**\n",
        "\n",
        "The system is modeled as full multi-body system (**MBS**) using the [**uraeus.smbd**](https://https://github.com/khaledghobashy/uraeus-smbd) to model the system symbolically, then using [**uraeus.nmbd.cpp**](https://github.com/khaledghobashy/uraeus_nmbd_cpp) to perform the numerical simulation of the modeled system.\n",
        "\n",
        "The implementation in this notebook can be broken down into main **six** steps as follows:\n",
        "\n",
        "1. **Colab Machine Setup.** </br>\n",
        "We first starts by setting up the Colab machine environment by installing the needed tools and packages.\n",
        "\n",
        "2.  **Symbolic Model Creation.** </br>\n",
        "Here we create the symbolic topology of the system as well as a symbolic configuration.\n",
        "\n",
        "3.  **Numerical Environment Generation.** </br>\n",
        "We then pass our symbolic model to code-generators to generate the code files needed for numerical simulation.\n",
        "\n",
        "4.  **Numerical Simulation.** </br>\n",
        "We then use these code files to create our simulation instances and run the numerical simulation.\n",
        "\n",
        "5.  **Data Post-Processing.** </br>\n",
        "Now, we can use the raw results' data to evaluate the required characteristics and create plots.\n",
        "\n",
        "6.  **3D Visualization.** </br>\n",
        "Finally, we use **uraeus.visenv.babylon** to visualize and animate our system in 3D.\n",
        "---\n",
        "\n",
        "*__Note__: If you want to know more about the **uraues.mbd** opensource packages for multi-body dynamics, please visit the package repository at github [here](https://github.com/khaledghobashy/uraeus_mbd).*\n",
        "\n",
        "---\n",
        "---"
      ]
    },
    {
      "cell_type": "markdown",
      "metadata": {
        "id": "-XuFPva99FEM"
      },
      "source": [
        "# 1. **Colab Machine Setup**\n",
        "---\n",
        "\n",
        "This is a simple demonesteration that walks through the installation steps of the needed software packages on a virtual linux machine provided by [Google Colaboratory](https://colab.research.google.com/). These are more or less the same steps you need to follow in order to setup the environment on your machine.\n",
        "\n",
        "The list of the stated **uraeus.nmbd.cpp** prerequisites:\n",
        "- Python 3.6+.\n",
        "- [Git](https://git-scm.com/downloads), for cloning the project repository.\n",
        "- [Cmake](https://cmake.org/download/), for build-systems generation. The project requires cmake 3.10 or higher.\n",
        "- A modern C++ compiler supporting C++17 standards. The project is tested with the GCC 10 compiler on a Linux machine and the Microsoft C++ build tools MSVC on a Windows-10 machine.\n",
        "- The [uraeus.smbd](https://github.com/khaledghobashy/uraeus-smbd) python package.\n",
        "\n",
        "The linux machine provided by Colab already has compatible versions of **python**, **git** and **cmake**. We just need to:\n",
        "1. Install a newer version of the **gcc** compiler.\n",
        "2. Clone and install the [uraeus.smbd](https://github.com/khaledghobashy/uraeus-smbd) and [uraeus.nmbd.cpp](https://github.com/khaledghobashy/uraeus_nmbd_cpp) packages.\n",
        "\n",
        "---\n",
        "\n",
        "*__Note__: Code cells in Jupyter notebooks can accept terminal commands by including an exclamation mark (**!**) before the command. This will be used to setup the virtual machine hosting this notebook.*\n",
        "\n",
        "---"
      ]
    },
    {
      "cell_type": "markdown",
      "metadata": {
        "id": "mhD2XcvA9FEM"
      },
      "source": [
        "## Installing GCC 10\n",
        "The code cell below has the terminal commands needed to install **gcc** 10 and set it as the default compiler for the machine. Select the cell and press **Shift + Enter** to run the cell."
      ]
    },
    {
      "cell_type": "code",
      "execution_count": 1,
      "metadata": {
        "colab": {
          "base_uri": "https://localhost:8080/"
        },
        "id": "_gMuqEjOmM3w",
        "outputId": "912280fe-8af7-442a-f530-c7739717920b"
      },
      "outputs": [
        {
          "output_type": "stream",
          "name": "stdout",
          "text": [
            "Reading package lists... Done\n",
            "Building dependency tree... Done\n",
            "Reading state information... Done\n",
            "software-properties-common is already the newest version (0.99.22.7).\n",
            "0 upgraded, 0 newly installed, 0 to remove and 16 not upgraded.\n",
            "PPA publishes dbgsym, you may need to include 'main/debug' component\n",
            "Repository: 'deb https://ppa.launchpadcontent.net/ubuntu-toolchain-r/test/ubuntu/ jammy main'\n",
            "Description:\n",
            "Toolchain test builds; see https://wiki.ubuntu.com/ToolChain\n",
            "\n",
            "More info: https://launchpad.net/~ubuntu-toolchain-r/+archive/ubuntu/test\n",
            "Adding repository.\n",
            "Adding deb entry to /etc/apt/sources.list.d/ubuntu-toolchain-r-ubuntu-test-jammy.list\n",
            "Adding disabled deb-src entry to /etc/apt/sources.list.d/ubuntu-toolchain-r-ubuntu-test-jammy.list\n",
            "Adding key to /etc/apt/trusted.gpg.d/ubuntu-toolchain-r-ubuntu-test.gpg with fingerprint 60C317803A41BA51845E371A1E9377A2BA9EF27F\n",
            "Get:1 https://cloud.r-project.org/bin/linux/ubuntu jammy-cran40/ InRelease [3,626 B]\n",
            "Get:2 https://developer.download.nvidia.com/compute/cuda/repos/ubuntu2204/x86_64  InRelease [1,581 B]\n",
            "Hit:3 http://archive.ubuntu.com/ubuntu jammy InRelease\n",
            "Get:4 http://archive.ubuntu.com/ubuntu jammy-updates InRelease [119 kB]\n",
            "Get:5 http://security.ubuntu.com/ubuntu jammy-security InRelease [110 kB]\n",
            "Get:6 https://developer.download.nvidia.com/compute/cuda/repos/ubuntu2204/x86_64  Packages [457 kB]\n",
            "Get:7 http://archive.ubuntu.com/ubuntu jammy-backports InRelease [109 kB]\n",
            "Hit:8 https://ppa.launchpadcontent.net/c2d4u.team/c2d4u4.0+/ubuntu jammy InRelease\n",
            "Get:9 http://archive.ubuntu.com/ubuntu jammy-updates/multiverse amd64 Packages [49.9 kB]\n",
            "Get:10 http://archive.ubuntu.com/ubuntu jammy-updates/universe amd64 Packages [1,235 kB]\n",
            "Hit:11 https://ppa.launchpadcontent.net/deadsnakes/ppa/ubuntu jammy InRelease\n",
            "Get:12 http://archive.ubuntu.com/ubuntu jammy-updates/main amd64 Packages [1,103 kB]\n",
            "Hit:13 https://ppa.launchpadcontent.net/graphics-drivers/ppa/ubuntu jammy InRelease\n",
            "Get:14 https://ppa.launchpadcontent.net/ubuntu-toolchain-r/test/ubuntu jammy InRelease [23.8 kB]\n",
            "Hit:15 https://ppa.launchpadcontent.net/ubuntugis/ppa/ubuntu jammy InRelease\n",
            "Get:16 https://ppa.launchpadcontent.net/ubuntu-toolchain-r/test/ubuntu jammy/main amd64 Packages [17.4 kB]\n",
            "Fetched 3,230 kB in 4s (785 kB/s)\n",
            "Reading package lists... Done\n",
            "Reading package lists... Done\n",
            "Building dependency tree... Done\n",
            "Reading state information... Done\n",
            "The following additional packages will be installed:\n",
            "  cpp-10 gcc-10-base libgcc-10-dev libstdc++-10-dev\n",
            "Suggested packages:\n",
            "  gcc-10-locales g++-10-multilib gcc-10-doc gcc-10-multilib libstdc++-10-doc\n",
            "The following NEW packages will be installed:\n",
            "  cpp-10 g++-10 gcc-10 gcc-10-base libgcc-10-dev libstdc++-10-dev\n",
            "0 upgraded, 6 newly installed, 0 to remove and 29 not upgraded.\n",
            "Need to get 43.5 MB of archives.\n",
            "After this operation, 142 MB of additional disk space will be used.\n",
            "Get:1 http://archive.ubuntu.com/ubuntu jammy-updates/universe amd64 gcc-10-base amd64 10.5.0-1ubuntu1~22.04 [21.5 kB]\n",
            "Get:2 http://archive.ubuntu.com/ubuntu jammy-updates/universe amd64 cpp-10 amd64 10.5.0-1ubuntu1~22.04 [9,395 kB]\n",
            "Get:3 http://archive.ubuntu.com/ubuntu jammy-updates/universe amd64 libgcc-10-dev amd64 10.5.0-1ubuntu1~22.04 [2,493 kB]\n",
            "Get:4 http://archive.ubuntu.com/ubuntu jammy-updates/universe amd64 gcc-10 amd64 10.5.0-1ubuntu1~22.04 [19.1 MB]\n",
            "Get:5 http://archive.ubuntu.com/ubuntu jammy-updates/universe amd64 libstdc++-10-dev amd64 10.5.0-1ubuntu1~22.04 [1,868 kB]\n",
            "Get:6 http://archive.ubuntu.com/ubuntu jammy-updates/universe amd64 g++-10 amd64 10.5.0-1ubuntu1~22.04 [10.7 MB]\n",
            "Fetched 43.5 MB in 2s (24.2 MB/s)\n",
            "debconf: unable to initialize frontend: Dialog\n",
            "debconf: (No usable dialog-like program is installed, so the dialog based frontend cannot be used. at /usr/share/perl5/Debconf/FrontEnd/Dialog.pm line 78, <> line 6.)\n",
            "debconf: falling back to frontend: Readline\n",
            "debconf: unable to initialize frontend: Readline\n",
            "debconf: (This frontend requires a controlling tty.)\n",
            "debconf: falling back to frontend: Teletype\n",
            "dpkg-preconfigure: unable to re-open stdin: \n",
            "Selecting previously unselected package gcc-10-base:amd64.\n",
            "(Reading database ... 120511 files and directories currently installed.)\n",
            "Preparing to unpack .../0-gcc-10-base_10.5.0-1ubuntu1~22.04_amd64.deb ...\n",
            "Unpacking gcc-10-base:amd64 (10.5.0-1ubuntu1~22.04) ...\n",
            "Selecting previously unselected package cpp-10.\n",
            "Preparing to unpack .../1-cpp-10_10.5.0-1ubuntu1~22.04_amd64.deb ...\n",
            "Unpacking cpp-10 (10.5.0-1ubuntu1~22.04) ...\n",
            "Selecting previously unselected package libgcc-10-dev:amd64.\n",
            "Preparing to unpack .../2-libgcc-10-dev_10.5.0-1ubuntu1~22.04_amd64.deb ...\n",
            "Unpacking libgcc-10-dev:amd64 (10.5.0-1ubuntu1~22.04) ...\n",
            "Selecting previously unselected package gcc-10.\n",
            "Preparing to unpack .../3-gcc-10_10.5.0-1ubuntu1~22.04_amd64.deb ...\n",
            "Unpacking gcc-10 (10.5.0-1ubuntu1~22.04) ...\n",
            "Selecting previously unselected package libstdc++-10-dev:amd64.\n",
            "Preparing to unpack .../4-libstdc++-10-dev_10.5.0-1ubuntu1~22.04_amd64.deb ...\n",
            "Unpacking libstdc++-10-dev:amd64 (10.5.0-1ubuntu1~22.04) ...\n",
            "Selecting previously unselected package g++-10.\n",
            "Preparing to unpack .../5-g++-10_10.5.0-1ubuntu1~22.04_amd64.deb ...\n",
            "Unpacking g++-10 (10.5.0-1ubuntu1~22.04) ...\n",
            "Setting up gcc-10-base:amd64 (10.5.0-1ubuntu1~22.04) ...\n",
            "Setting up cpp-10 (10.5.0-1ubuntu1~22.04) ...\n",
            "Setting up libgcc-10-dev:amd64 (10.5.0-1ubuntu1~22.04) ...\n",
            "Setting up gcc-10 (10.5.0-1ubuntu1~22.04) ...\n",
            "Setting up libstdc++-10-dev:amd64 (10.5.0-1ubuntu1~22.04) ...\n",
            "Setting up g++-10 (10.5.0-1ubuntu1~22.04) ...\n",
            "Processing triggers for man-db (2.10.2-1) ...\n",
            "update-alternatives: using /usr/bin/gcc-10 to provide /usr/bin/gcc (gcc) in auto mode\n"
          ]
        }
      ],
      "source": [
        "!sudo apt install software-properties-common\n",
        "!sudo add-apt-repository -y ppa:ubuntu-toolchain-r/test\n",
        "!sudo apt install gcc-10 g++-10\n",
        "!sudo update-alternatives --install /usr/bin/gcc gcc /usr/bin/gcc-10 90 --slave /usr/bin/g++ g++ /usr/bin/g++-10 --slave /usr/bin/gcov gcov /usr/bin/gcov-10"
      ]
    },
    {
      "cell_type": "markdown",
      "metadata": {
        "id": "-sYN5Gyq9FEN"
      },
      "source": [
        "Checking the default version of gcc."
      ]
    },
    {
      "cell_type": "code",
      "execution_count": 2,
      "metadata": {
        "colab": {
          "base_uri": "https://localhost:8080/"
        },
        "id": "MCTivmRVnBE_",
        "outputId": "eea52758-5805-43ce-bf02-99e78379448d"
      },
      "outputs": [
        {
          "output_type": "stream",
          "name": "stdout",
          "text": [
            "gcc (Ubuntu 10.5.0-1ubuntu1~22.04) 10.5.0\n",
            "Copyright (C) 2020 Free Software Foundation, Inc.\n",
            "This is free software; see the source for copying conditions.  There is NO\n",
            "warranty; not even for MERCHANTABILITY or FITNESS FOR A PARTICULAR PURPOSE.\n",
            "\n"
          ]
        }
      ],
      "source": [
        "!gcc --version"
      ]
    },
    {
      "cell_type": "markdown",
      "metadata": {
        "id": "_lHMMe4f9FEN"
      },
      "source": [
        "----"
      ]
    },
    {
      "cell_type": "markdown",
      "metadata": {
        "id": "ZjXTwiFB9FEO"
      },
      "source": [
        "## Cloning uraeus packages\n",
        "The code cell below has the terminal commands needed to clone the needed uraeus packages. Just run the cell."
      ]
    },
    {
      "cell_type": "code",
      "execution_count": 3,
      "metadata": {
        "colab": {
          "base_uri": "https://localhost:8080/"
        },
        "id": "0bi3ce13-rN4",
        "outputId": "d64cd9e9-974e-4fc5-9d73-2e611fc33155"
      },
      "outputs": [
        {
          "output_type": "stream",
          "name": "stdout",
          "text": [
            "Cloning into 'uraeus_nmbd_cpp'...\n",
            "remote: Enumerating objects: 4333, done.\u001b[K\n",
            "remote: Counting objects: 100% (276/276), done.\u001b[K\n",
            "remote: Compressing objects: 100% (174/174), done.\u001b[K\n",
            "remote: Total 4333 (delta 141), reused 229 (delta 102), pack-reused 4057\u001b[K\n",
            "Receiving objects: 100% (4333/4333), 21.66 MiB | 15.94 MiB/s, done.\n",
            "Resolving deltas: 100% (1603/1603), done.\n",
            "Cloning into 'uraeus_smbd'...\n",
            "remote: Enumerating objects: 10783, done.\u001b[K\n",
            "remote: Counting objects: 100% (515/515), done.\u001b[K\n",
            "remote: Compressing objects: 100% (253/253), done.\u001b[K\n",
            "remote: Total 10783 (delta 281), reused 426 (delta 205), pack-reused 10268\u001b[K\n",
            "Receiving objects: 100% (10783/10783), 69.58 MiB | 19.35 MiB/s, done.\n",
            "Resolving deltas: 100% (6163/6163), done.\n",
            "Cloning into 'uraeus_visenv_babylon'...\n",
            "remote: Enumerating objects: 145, done.\u001b[K\n",
            "remote: Counting objects: 100% (145/145), done.\u001b[K\n",
            "remote: Compressing objects: 100% (94/94), done.\u001b[K\n",
            "remote: Total 145 (delta 75), reused 120 (delta 50), pack-reused 0\u001b[K\n",
            "Receiving objects: 100% (145/145), 91.22 KiB | 1.34 MiB/s, done.\n",
            "Resolving deltas: 100% (75/75), done.\n"
          ]
        }
      ],
      "source": [
        "!git clone https://github.com/khaledghobashy/uraeus_nmbd_cpp.git\n",
        "!git clone https://github.com/khaledghobashy/uraeus_smbd.git\n",
        "!git clone https://github.com/khaledghobashy/uraeus_visenv_babylon.git"
      ]
    },
    {
      "cell_type": "markdown",
      "metadata": {
        "id": "DfRY5qra9FEO"
      },
      "source": [
        "## Installing uraeus packages\n",
        "The code cell below has the terminal commands needed to install the cloned packages via `pip install`. Just run the cell."
      ]
    },
    {
      "cell_type": "code",
      "execution_count": 4,
      "metadata": {
        "colab": {
          "base_uri": "https://localhost:8080/"
        },
        "id": "THxBlbtcQ3fv",
        "outputId": "bc346eb6-5ea3-4850-f9f2-f9acabf7195c"
      },
      "outputs": [
        {
          "output_type": "stream",
          "name": "stdout",
          "text": [
            "Obtaining file:///content/uraeus_smbd\n",
            "  Preparing metadata (setup.py) ... \u001b[?25l\u001b[?25hdone\n",
            "Collecting sympy==1.4 (from uraeus.smbd==0.0.1.dev3)\n",
            "  Downloading sympy-1.4-py2.py3-none-any.whl (5.3 MB)\n",
            "\u001b[2K     \u001b[90m━━━━━━━━━━━━━━━━━━━━━━━━━━━━━━━━━━━━━━━━\u001b[0m \u001b[32m5.3/5.3 MB\u001b[0m \u001b[31m16.7 MB/s\u001b[0m eta \u001b[36m0:00:00\u001b[0m\n",
            "\u001b[?25hRequirement already satisfied: networkx in /usr/local/lib/python3.10/dist-packages (from uraeus.smbd==0.0.1.dev3) (3.1)\n",
            "Requirement already satisfied: cloudpickle in /usr/local/lib/python3.10/dist-packages (from uraeus.smbd==0.0.1.dev3) (2.2.1)\n",
            "Requirement already satisfied: matplotlib in /usr/local/lib/python3.10/dist-packages (from uraeus.smbd==0.0.1.dev3) (3.7.1)\n",
            "Requirement already satisfied: mpmath>=0.19 in /usr/local/lib/python3.10/dist-packages (from sympy==1.4->uraeus.smbd==0.0.1.dev3) (1.3.0)\n",
            "Requirement already satisfied: contourpy>=1.0.1 in /usr/local/lib/python3.10/dist-packages (from matplotlib->uraeus.smbd==0.0.1.dev3) (1.1.0)\n",
            "Requirement already satisfied: cycler>=0.10 in /usr/local/lib/python3.10/dist-packages (from matplotlib->uraeus.smbd==0.0.1.dev3) (0.11.0)\n",
            "Requirement already satisfied: fonttools>=4.22.0 in /usr/local/lib/python3.10/dist-packages (from matplotlib->uraeus.smbd==0.0.1.dev3) (4.42.0)\n",
            "Requirement already satisfied: kiwisolver>=1.0.1 in /usr/local/lib/python3.10/dist-packages (from matplotlib->uraeus.smbd==0.0.1.dev3) (1.4.4)\n",
            "Requirement already satisfied: numpy>=1.20 in /usr/local/lib/python3.10/dist-packages (from matplotlib->uraeus.smbd==0.0.1.dev3) (1.23.5)\n",
            "Requirement already satisfied: packaging>=20.0 in /usr/local/lib/python3.10/dist-packages (from matplotlib->uraeus.smbd==0.0.1.dev3) (23.1)\n",
            "Requirement already satisfied: pillow>=6.2.0 in /usr/local/lib/python3.10/dist-packages (from matplotlib->uraeus.smbd==0.0.1.dev3) (9.4.0)\n",
            "Requirement already satisfied: pyparsing>=2.3.1 in /usr/local/lib/python3.10/dist-packages (from matplotlib->uraeus.smbd==0.0.1.dev3) (3.1.1)\n",
            "Requirement already satisfied: python-dateutil>=2.7 in /usr/local/lib/python3.10/dist-packages (from matplotlib->uraeus.smbd==0.0.1.dev3) (2.8.2)\n",
            "Requirement already satisfied: six>=1.5 in /usr/local/lib/python3.10/dist-packages (from python-dateutil>=2.7->matplotlib->uraeus.smbd==0.0.1.dev3) (1.16.0)\n",
            "Installing collected packages: sympy, uraeus.smbd\n",
            "  Attempting uninstall: sympy\n",
            "    Found existing installation: sympy 1.11.1\n",
            "    Uninstalling sympy-1.11.1:\n",
            "      Successfully uninstalled sympy-1.11.1\n",
            "  Running setup.py develop for uraeus.smbd\n",
            "Successfully installed sympy-1.4 uraeus.smbd-0.0.1.dev3\n",
            "Obtaining file:///content/uraeus_nmbd_cpp\n",
            "  Preparing metadata (setup.py) ... \u001b[?25l\u001b[?25hdone\n",
            "Requirement already satisfied: uraeus.smbd>=0.0.0.dev1 in ./uraeus_smbd (from uraeus.nmbd.cpp==0.0.1.dev1) (0.0.1.dev3)\n",
            "Requirement already satisfied: cython in /usr/local/lib/python3.10/dist-packages (from uraeus.nmbd.cpp==0.0.1.dev1) (0.29.36)\n",
            "Requirement already satisfied: sympy==1.4 in /usr/local/lib/python3.10/dist-packages (from uraeus.smbd>=0.0.0.dev1->uraeus.nmbd.cpp==0.0.1.dev1) (1.4)\n",
            "Requirement already satisfied: networkx in /usr/local/lib/python3.10/dist-packages (from uraeus.smbd>=0.0.0.dev1->uraeus.nmbd.cpp==0.0.1.dev1) (3.1)\n",
            "Requirement already satisfied: cloudpickle in /usr/local/lib/python3.10/dist-packages (from uraeus.smbd>=0.0.0.dev1->uraeus.nmbd.cpp==0.0.1.dev1) (2.2.1)\n",
            "Requirement already satisfied: matplotlib in /usr/local/lib/python3.10/dist-packages (from uraeus.smbd>=0.0.0.dev1->uraeus.nmbd.cpp==0.0.1.dev1) (3.7.1)\n",
            "Requirement already satisfied: mpmath>=0.19 in /usr/local/lib/python3.10/dist-packages (from sympy==1.4->uraeus.smbd>=0.0.0.dev1->uraeus.nmbd.cpp==0.0.1.dev1) (1.3.0)\n",
            "Requirement already satisfied: contourpy>=1.0.1 in /usr/local/lib/python3.10/dist-packages (from matplotlib->uraeus.smbd>=0.0.0.dev1->uraeus.nmbd.cpp==0.0.1.dev1) (1.1.0)\n",
            "Requirement already satisfied: cycler>=0.10 in /usr/local/lib/python3.10/dist-packages (from matplotlib->uraeus.smbd>=0.0.0.dev1->uraeus.nmbd.cpp==0.0.1.dev1) (0.11.0)\n",
            "Requirement already satisfied: fonttools>=4.22.0 in /usr/local/lib/python3.10/dist-packages (from matplotlib->uraeus.smbd>=0.0.0.dev1->uraeus.nmbd.cpp==0.0.1.dev1) (4.42.0)\n",
            "Requirement already satisfied: kiwisolver>=1.0.1 in /usr/local/lib/python3.10/dist-packages (from matplotlib->uraeus.smbd>=0.0.0.dev1->uraeus.nmbd.cpp==0.0.1.dev1) (1.4.4)\n",
            "Requirement already satisfied: numpy>=1.20 in /usr/local/lib/python3.10/dist-packages (from matplotlib->uraeus.smbd>=0.0.0.dev1->uraeus.nmbd.cpp==0.0.1.dev1) (1.23.5)\n",
            "Requirement already satisfied: packaging>=20.0 in /usr/local/lib/python3.10/dist-packages (from matplotlib->uraeus.smbd>=0.0.0.dev1->uraeus.nmbd.cpp==0.0.1.dev1) (23.1)\n",
            "Requirement already satisfied: pillow>=6.2.0 in /usr/local/lib/python3.10/dist-packages (from matplotlib->uraeus.smbd>=0.0.0.dev1->uraeus.nmbd.cpp==0.0.1.dev1) (9.4.0)\n",
            "Requirement already satisfied: pyparsing>=2.3.1 in /usr/local/lib/python3.10/dist-packages (from matplotlib->uraeus.smbd>=0.0.0.dev1->uraeus.nmbd.cpp==0.0.1.dev1) (3.1.1)\n",
            "Requirement already satisfied: python-dateutil>=2.7 in /usr/local/lib/python3.10/dist-packages (from matplotlib->uraeus.smbd>=0.0.0.dev1->uraeus.nmbd.cpp==0.0.1.dev1) (2.8.2)\n",
            "Requirement already satisfied: six>=1.5 in /usr/local/lib/python3.10/dist-packages (from python-dateutil>=2.7->matplotlib->uraeus.smbd>=0.0.0.dev1->uraeus.nmbd.cpp==0.0.1.dev1) (1.16.0)\n",
            "Installing collected packages: uraeus.nmbd.cpp\n",
            "  Running setup.py develop for uraeus.nmbd.cpp\n",
            "Successfully installed uraeus.nmbd.cpp-0.0.1.dev1\n"
          ]
        }
      ],
      "source": [
        "!pip install -e uraeus_smbd\n",
        "!pip install -e uraeus_nmbd_cpp"
      ]
    },
    {
      "cell_type": "markdown",
      "metadata": {
        "id": "ahEb8HX29FEO"
      },
      "source": [
        "---"
      ]
    },
    {
      "cell_type": "markdown",
      "metadata": {
        "id": "4I_uXPnk9FEO"
      },
      "source": [
        "## Building the binaries of **uraeus.nmbd.cpp**\n",
        "The code cell below creats a build directory and uses `cmake ..` to generate the build-system files needed to build the binaries in **Release** mode, then invokes `cmake --build .` to start the building process. Again, jsut run the cell."
      ]
    },
    {
      "cell_type": "code",
      "execution_count": 5,
      "metadata": {
        "colab": {
          "base_uri": "https://localhost:8080/"
        },
        "id": "3nNgO9vb-wZj",
        "outputId": "5fdbd978-1491-41cb-e0ab-4358ba1647bb"
      },
      "outputs": [
        {
          "output_type": "stream",
          "name": "stdout",
          "text": [
            "-- The CXX compiler identification is GNU 10.5.0\n",
            "-- Detecting CXX compiler ABI info\n",
            "-- Detecting CXX compiler ABI info - done\n",
            "-- Check for working CXX compiler: /usr/bin/c++ - skipped\n",
            "-- Detecting CXX compile features\n",
            "-- Detecting CXX compile features - done\n",
            "-- Configuring done\n",
            "-- Generating done\n",
            "-- Build files have been written to: /content/uraeus_nmbd_cpp/uraeus/nmbd/cpp/engine/build\n",
            "[ 12%] \u001b[32mBuilding CXX object src/CMakeFiles/uraeuslib.dir/uraeus/numerics/euler_parameters.cpp.o\u001b[0m\n",
            "[ 25%] \u001b[32mBuilding CXX object src/CMakeFiles/uraeuslib.dir/uraeus/numerics/spatial_algebra.cpp.o\u001b[0m\n",
            "[ 37%] \u001b[32mBuilding CXX object src/CMakeFiles/uraeuslib.dir/uraeus/numerics/geometries.cpp.o\u001b[0m\n",
            "[ 50%] \u001b[32mBuilding CXX object src/CMakeFiles/uraeuslib.dir/uraeus/numerics/helpers.cpp.o\u001b[0m\n",
            "[ 62%] \u001b[32mBuilding CXX object src/CMakeFiles/uraeuslib.dir/uraeus/solvers/utilities.cpp.o\u001b[0m\n",
            "[ 75%] \u001b[32mBuilding CXX object src/CMakeFiles/uraeuslib.dir/uraeus/solvers/sparse_assembler.cpp.o\u001b[0m\n",
            "[ 87%] \u001b[32mBuilding CXX object src/CMakeFiles/uraeuslib.dir/uraeus/systems/configuration.cpp.o\u001b[0m\n",
            "[100%] \u001b[32m\u001b[1mLinking CXX static library liburaeuslib.a\u001b[0m\n",
            "[100%] Built target uraeuslib\n"
          ]
        }
      ],
      "source": [
        "!cd uraeus_nmbd_cpp/uraeus/nmbd/cpp/engine/ && mkdir -p build && cd build && cmake .. -DCMAKE_BUILD_TYPE=Release && cmake --build ."
      ]
    },
    {
      "cell_type": "markdown",
      "metadata": {
        "id": "wnQUaMDx9FEO"
      },
      "source": [
        "---"
      ]
    },
    {
      "cell_type": "markdown",
      "metadata": {
        "id": "D2XDeEoU9FEO"
      },
      "source": [
        "Finally, we force the active python kernel to restart in order to have access to the intalled uraeus packages.\n",
        "Running the cell below in Colab will give a warining message **\"Your session crashed for an unknown reason\"**, this is intentional, so do not worry."
      ]
    },
    {
      "cell_type": "code",
      "execution_count": null,
      "metadata": {
        "id": "W8ZsD-o9bBSM"
      },
      "outputs": [],
      "source": [
        "import os\n",
        "os._exit(00)"
      ]
    },
    {
      "cell_type": "markdown",
      "metadata": {
        "id": "A3z_6BIJ9FEO"
      },
      "source": [
        "---\n",
        "---\n",
        "\n",
        "</br>\n",
        "</br>\n",
        "</br>\n",
        "</br>\n",
        "\n",
        "---\n",
        "---"
      ]
    },
    {
      "cell_type": "markdown",
      "metadata": {
        "id": "aY-Oy9F99FEO"
      },
      "source": [
        "# 2. **Symbolic Model Creation**\n",
        "---"
      ]
    },
    {
      "cell_type": "markdown",
      "metadata": {
        "id": "4WPBpxhM9FEO"
      },
      "source": [
        "## **Symbolic Topology**\n",
        "------------------------"
      ]
    },
    {
      "cell_type": "markdown",
      "metadata": {
        "id": "Q1lIfZQL9FEP"
      },
      "source": [
        "In this section, we create the symbolic topology that captures the topological layout that we discussed earlier.</br>\n",
        "Defining the topology is very simple. We start by importing the ```standalone_topology``` class and create a new instance that represents our symbolic model. Then we start adding the components we discussed earlier, starting by the bodies, then the joints, actuators and forces, and thats it.</br>\n",
        "These components will be represented symbolically, and therefore there is no need for any numerical inputs at this step.\n",
        "\n",
        "The system is stored in a form of a network graph that stores all the data needed for the assemblage of the system equations later. But even before the assemblage process, we can gain helpful insights about our system as well be shown.\n"
      ]
    },
    {
      "cell_type": "code",
      "execution_count": 2,
      "metadata": {
        "id": "NM-6mHopVyOJ"
      },
      "outputs": [],
      "source": [
        "# standard library imports\n",
        "import os\n",
        "\n",
        "# getting directory of current file and specifying the directory\n",
        "# where data will be saved\n",
        "os.makedirs(os.path.join(\"model\", \"symenv\", \"data\"), exist_ok=True)\n",
        "#os.chdir(\"model\")\n",
        "data_dir = os.path.abspath(\"model/symenv/data\")"
      ]
    },
    {
      "cell_type": "code",
      "execution_count": 3,
      "metadata": {
        "id": "81QvT2xI9FEP"
      },
      "outputs": [],
      "source": [
        "# uraeus imports\n",
        "from uraeus.smbd.systems import standalone_topology, configuration\n",
        "\n",
        "# ============================================================= #\n",
        "#                       Symbolic Topology\n",
        "# ============================================================= #\n",
        "\n",
        "# Creating the symbolic topology as an instance of the\n",
        "# standalone_topology class\n",
        "project_name = \"double_wishbone_direct_acting\"\n",
        "sym_model = standalone_topology(project_name)\n",
        "\n",
        "# Adding Bodies\n",
        "# =============\n",
        "sym_model.add_body(\"uca\", mirror=True)\n",
        "sym_model.add_body(\"lca\", mirror=True)\n",
        "sym_model.add_body(\"upright\", mirror=True)\n",
        "sym_model.add_body(\"upper_strut\", mirror=True)\n",
        "sym_model.add_body(\"lower_strut\" ,mirror=True)\n",
        "sym_model.add_body(\"tie_rod\", mirror=True)\n",
        "sym_model.add_body(\"hub\", mirror=True)\n",
        "sym_model.add_body(\"rack\")\n",
        "\n",
        "# Adding Joints\n",
        "# =============\n",
        "sym_model.add_joint.spherical(\"uca_upright\", \"rbr_uca\", \"rbr_upright\", mirror=True)\n",
        "sym_model.add_joint.spherical(\"lca_upright\", \"rbr_lca\", \"rbr_upright\", mirror=True)\n",
        "sym_model.add_joint.spherical(\"tie_upright\", \"rbr_tie_rod\", \"rbr_upright\", mirror=True)\n",
        "\n",
        "sym_model.add_joint.revolute(\"uca_chassis\", \"rbr_uca\", \"ground\", mirror=True)\n",
        "sym_model.add_joint.revolute(\"lca_chassis\", \"rbr_lca\", \"ground\", mirror=True)\n",
        "sym_model.add_joint.revolute(\"hub_bearing\", \"rbr_upright\", \"rbr_hub\", mirror=True)\n",
        "\n",
        "sym_model.add_joint.universal(\"strut_chassis\", \"rbr_upper_strut\", \"ground\", mirror=True)\n",
        "sym_model.add_joint.universal(\"strut_lca\", \"rbr_lower_strut\", \"rbr_lca\", mirror=True)\n",
        "sym_model.add_joint.universal(\"tie_steering\", \"rbr_tie_rod\", \"rbs_rack\", mirror=True)\n",
        "\n",
        "sym_model.add_joint.cylinderical(\"strut\", \"rbr_upper_strut\", \"rbr_lower_strut\", mirror=True)\n",
        "sym_model.add_joint.translational(\"rack_joint\", \"rbs_rack\", \"ground\")\n",
        "\n",
        "# Adding Actuators\n",
        "# ================\n",
        "sym_model.add_actuator.translational_actuator(\"rack_travel\", \"jcs_rack_joint\")\n",
        "sym_model.add_actuator.rotational_actuator(\"wheel_lock\", \"jcr_hub_bearing\", mirror=True)\n",
        "sym_model.add_actuator.absolute_locator(\"wheel_travel\", \"rbr_hub\", \"ground\", \"z\", mirror=True)\n",
        "\n",
        "# Adding Forces\n",
        "# =============\n",
        "sym_model.add_force.TSDA(\"strut\", \"rbr_upper_strut\", \"rbr_lower_strut\", mirror=True)\n",
        "sym_model.add_force.generic_load(\"tire\", \"rbr_hub\", mirror=True)"
      ]
    },
    {
      "cell_type": "markdown",
      "metadata": {
        "id": "goKtOBuLd1Kh"
      },
      "source": [
        "### **Symbolic Characterstics**"
      ]
    },
    {
      "cell_type": "markdown",
      "metadata": {
        "id": "E6Z2OwzF9FEP"
      },
      "source": [
        "#### Topology Graph\n",
        "Visualizing the connectivity of the system as a network graph, where the nodes represent the bodies, and the edges represent the joints, forces and/or actuators between the bodies."
      ]
    },
    {
      "cell_type": "code",
      "execution_count": 4,
      "metadata": {
        "colab": {
          "base_uri": "https://localhost:8080/",
          "height": 636
        },
        "id": "A_q6gDHM9FEP",
        "outputId": "1fcc2bf7-c7be-4ce4-c440-0b2f04e8d5e1"
      },
      "outputs": [
        {
          "output_type": "display_data",
          "data": {
            "text/plain": [
              "<Figure size 1000x600 with 1 Axes>"
            ],
            "image/png": "[encoded data removed]"
          },
          "metadata": {}
        }
      ],
      "source": [
        "sym_model.topology.draw_constraints_topology()"
      ]
    },
    {
      "cell_type": "markdown",
      "metadata": {
        "id": "L8NLjC7j9FEP"
      },
      "source": [
        "Checking the system\"s number of generalized coordinates $n$ and number of constraints $n_c$."
      ]
    },
    {
      "cell_type": "code",
      "execution_count": 5,
      "metadata": {
        "colab": {
          "base_uri": "https://localhost:8080/",
          "height": 37
        },
        "id": "MWyYzcKB9FEP",
        "outputId": "ef952f7e-343d-49c0-b7ad-5f339596e6f3"
      },
      "outputs": [
        {
          "output_type": "execute_result",
          "data": {
            "text/plain": [
              "(112, 112)"
            ],
            "text/latex": "$\\displaystyle \\left( 112, \\  112\\right)$"
          },
          "metadata": {},
          "execution_count": 5
        }
      ],
      "source": [
        "sym_model.topology.n, sym_model.topology.nc"
      ]
    },
    {
      "cell_type": "markdown",
      "metadata": {
        "id": "sWhF7_jj9FEP"
      },
      "source": [
        "### **Assembling**"
      ]
    },
    {
      "cell_type": "markdown",
      "metadata": {
        "id": "J2EEV3jU9FEP"
      },
      "source": [
        "This is the last step of the symbolic building process, where we make the system starts the assemblage process of the governing equations, which will be used then in the code generation for the numerical simulation, and also can be used for further symbolic manipulations.</br>\n",
        "\n",
        "*Note: The equations\" notations will be discussed in the tool documentation files.*"
      ]
    },
    {
      "cell_type": "code",
      "execution_count": 6,
      "metadata": {
        "id": "Xin7vDXF9FEP"
      },
      "outputs": [],
      "source": [
        "# Assembling and Saving model\n",
        "sym_model.save(data_dir)\n",
        "sym_model.assemble()"
      ]
    },
    {
      "cell_type": "markdown",
      "metadata": {
        "id": "UvaE2LKg9FEP"
      },
      "source": [
        "#### Checking the System Equations"
      ]
    },
    {
      "cell_type": "code",
      "execution_count": 7,
      "metadata": {
        "colab": {
          "base_uri": "https://localhost:8080/",
          "height": 1000
        },
        "id": "u7ipGa4Z9FEP",
        "outputId": "83b44812-7868-4414-d130-0ea46c1f3f3b"
      },
      "outputs": [
        {
          "output_type": "execute_result",
          "data": {
            "text/plain": [
              "Matrix([\n",
              "[                                                                                                                                                                   -A({P_{ground}})*{\\bar{u}^{ground}_{jcr_uca_chassis}} + A({P_{rbr_uca}})*{\\bar{u}^{rbr_uca}_{jcr_uca_chassis}} - {R_{ground}} + {R_{rbr_uca}}],\n",
              "[                                                                                                                                                                                               Mbar_rbr_uca_jcr_uca_chassis[:,(0, 1)].T*A({P_{rbr_uca}}).T*A({P_{ground}})*Mbar_ground_jcr_uca_chassis[:,(2, 3)]],\n",
              "[                                                                                                                                                                                               Mbar_rbr_uca_jcr_uca_chassis[:,(1, 2)].T*A({P_{rbr_uca}}).T*A({P_{ground}})*Mbar_ground_jcr_uca_chassis[:,(2, 3)]],\n",
              "[                                                                                                                                                     A({P_{rbr_uca}})*{\\bar{u}^{rbr_uca}_{jcr_uca_upright}} - A({P_{rbr_upright}})*{\\bar{u}^{rbr_upright}_{jcr_uca_upright}} + {R_{rbr_uca}} - {R_{rbr_upright}}],\n",
              "[                                                                                                                                                                   -A({P_{ground}})*{\\bar{u}^{ground}_{jcl_uca_chassis}} + A({P_{rbl_uca}})*{\\bar{u}^{rbl_uca}_{jcl_uca_chassis}} - {R_{ground}} + {R_{rbl_uca}}],\n",
              "[                                                                                                                                                                                               Mbar_rbl_uca_jcl_uca_chassis[:,(0, 1)].T*A({P_{rbl_uca}}).T*A({P_{ground}})*Mbar_ground_jcl_uca_chassis[:,(2, 3)]],\n",
              "[                                                                                                                                                                                               Mbar_rbl_uca_jcl_uca_chassis[:,(1, 2)].T*A({P_{rbl_uca}}).T*A({P_{ground}})*Mbar_ground_jcl_uca_chassis[:,(2, 3)]],\n",
              "[                                                                                                                                                     A({P_{rbl_uca}})*{\\bar{u}^{rbl_uca}_{jcl_uca_upright}} - A({P_{rbl_upright}})*{\\bar{u}^{rbl_upright}_{jcl_uca_upright}} + {R_{rbl_uca}} - {R_{rbl_upright}}],\n",
              "[                                                                                                                                                                   -A({P_{ground}})*{\\bar{u}^{ground}_{jcr_lca_chassis}} + A({P_{rbr_lca}})*{\\bar{u}^{rbr_lca}_{jcr_lca_chassis}} - {R_{ground}} + {R_{rbr_lca}}],\n",
              "[                                                                                                                                                                                               Mbar_rbr_lca_jcr_lca_chassis[:,(0, 1)].T*A({P_{rbr_lca}}).T*A({P_{ground}})*Mbar_ground_jcr_lca_chassis[:,(2, 3)]],\n",
              "[                                                                                                                                                                                               Mbar_rbr_lca_jcr_lca_chassis[:,(1, 2)].T*A({P_{rbr_lca}}).T*A({P_{ground}})*Mbar_ground_jcr_lca_chassis[:,(2, 3)]],\n",
              "[                                                                                                                                                     A({P_{rbr_lca}})*{\\bar{u}^{rbr_lca}_{jcr_lca_upright}} - A({P_{rbr_upright}})*{\\bar{u}^{rbr_upright}_{jcr_lca_upright}} + {R_{rbr_lca}} - {R_{rbr_upright}}],\n",
              "[                                                                                                                                                                   -A({P_{ground}})*{\\bar{u}^{ground}_{jcl_lca_chassis}} + A({P_{rbl_lca}})*{\\bar{u}^{rbl_lca}_{jcl_lca_chassis}} - {R_{ground}} + {R_{rbl_lca}}],\n",
              "[                                                                                                                                                                                               Mbar_rbl_lca_jcl_lca_chassis[:,(0, 1)].T*A({P_{rbl_lca}}).T*A({P_{ground}})*Mbar_ground_jcl_lca_chassis[:,(2, 3)]],\n",
              "[                                                                                                                                                                                               Mbar_rbl_lca_jcl_lca_chassis[:,(1, 2)].T*A({P_{rbl_lca}}).T*A({P_{ground}})*Mbar_ground_jcl_lca_chassis[:,(2, 3)]],\n",
              "[                                                                                                                                                     A({P_{rbl_lca}})*{\\bar{u}^{rbl_lca}_{jcl_lca_upright}} - A({P_{rbl_upright}})*{\\bar{u}^{rbl_upright}_{jcl_lca_upright}} + {R_{rbl_lca}} - {R_{rbl_upright}}],\n",
              "[                                                                                                                                                    -A({P_{rbr_hub}})*{\\bar{u}^{rbr_hub}_{jcr_hub_bearing}} + A({P_{rbr_upright}})*{\\bar{u}^{rbr_upright}_{jcr_hub_bearing}} - {R_{rbr_hub}} + {R_{rbr_upright}}],\n",
              "[                                                                                                                                                                                     Mbar_rbr_upright_jcr_hub_bearing[:,(0, 1)].T*A({P_{rbr_upright}}).T*A({P_{rbr_hub}})*Mbar_rbr_hub_jcr_hub_bearing[:,(2, 3)]],\n",
              "[                                                                                                                                                                                     Mbar_rbr_upright_jcr_hub_bearing[:,(1, 2)].T*A({P_{rbr_upright}}).T*A({P_{rbr_hub}})*Mbar_rbr_hub_jcr_hub_bearing[:,(2, 3)]],\n",
              "[(-sin(UF_mcr_wheel_lock(t)))*Mbar_rbr_upright_jcr_hub_bearing[:,(0, 1)].T*A({P_{rbr_upright}}).T*A({P_{rbr_hub}})*Mbar_rbr_hub_jcr_hub_bearing[:,(0, 1)] + cos(UF_mcr_wheel_lock(t))*Mbar_rbr_upright_jcr_hub_bearing[:,(1, 2)].T*A({P_{rbr_upright}}).T*A({P_{rbr_hub}})*Mbar_rbr_hub_jcr_hub_bearing[:,(0, 1)]],\n",
              "[                                                                                                                                                    -A({P_{rbl_hub}})*{\\bar{u}^{rbl_hub}_{jcl_hub_bearing}} + A({P_{rbl_upright}})*{\\bar{u}^{rbl_upright}_{jcl_hub_bearing}} - {R_{rbl_hub}} + {R_{rbl_upright}}],\n",
              "[                                                                                                                                                                                     Mbar_rbl_upright_jcl_hub_bearing[:,(0, 1)].T*A({P_{rbl_upright}}).T*A({P_{rbl_hub}})*Mbar_rbl_hub_jcl_hub_bearing[:,(2, 3)]],\n",
              "[                                                                                                                                                                                     Mbar_rbl_upright_jcl_hub_bearing[:,(1, 2)].T*A({P_{rbl_upright}}).T*A({P_{rbl_hub}})*Mbar_rbl_hub_jcl_hub_bearing[:,(2, 3)]],\n",
              "[(-sin(UF_mcl_wheel_lock(t)))*Mbar_rbl_upright_jcl_hub_bearing[:,(0, 1)].T*A({P_{rbl_upright}}).T*A({P_{rbl_hub}})*Mbar_rbl_hub_jcl_hub_bearing[:,(0, 1)] + cos(UF_mcl_wheel_lock(t))*Mbar_rbl_upright_jcl_hub_bearing[:,(1, 2)].T*A({P_{rbl_upright}}).T*A({P_{rbl_hub}})*Mbar_rbl_hub_jcl_hub_bearing[:,(0, 1)]],\n",
              "[                                                                                                                                       -A({P_{ground}})*{\\bar{u}^{ground}_{jcr_strut_chassis}} + A({P_{rbr_upper_strut}})*{\\bar{u}^{rbr_upper_strut}_{jcr_strut_chassis}} - {R_{ground}} + {R_{rbr_upper_strut}}],\n",
              "[                                                                                                                                                                           Mbar_rbr_upper_strut_jcr_strut_chassis[:,(0, 1)].T*A({P_{rbr_upper_strut}}).T*A({P_{ground}})*Mbar_ground_jcr_strut_chassis[:,(0, 1)]],\n",
              "[                                                                                                                                                                         Mbar_rbr_upper_strut_jcr_strut[:,(0, 1)].T*A({P_{rbr_upper_strut}}).T*A({P_{rbr_lower_strut}})*Mbar_rbr_lower_strut_jcr_strut[:,(2, 3)]],\n",
              "[                                                                                                                                                                         Mbar_rbr_upper_strut_jcr_strut[:,(1, 2)].T*A({P_{rbr_upper_strut}}).T*A({P_{rbr_lower_strut}})*Mbar_rbr_lower_strut_jcr_strut[:,(2, 3)]],\n",
              "[                                                    Mbar_rbr_upper_strut_jcr_strut[:,(0, 1)].T*A({P_{rbr_upper_strut}}).T*(-A({P_{rbr_lower_strut}})*{\\bar{u}^{rbr_lower_strut}_{jcr_strut}} + A({P_{rbr_upper_strut}})*{\\bar{u}^{rbr_upper_strut}_{jcr_strut}} - {R_{rbr_lower_strut}} + {R_{rbr_upper_strut}})],\n",
              "[                                                    Mbar_rbr_upper_strut_jcr_strut[:,(1, 2)].T*A({P_{rbr_upper_strut}}).T*(-A({P_{rbr_lower_strut}})*{\\bar{u}^{rbr_lower_strut}_{jcr_strut}} + A({P_{rbr_upper_strut}})*{\\bar{u}^{rbr_upper_strut}_{jcr_strut}} - {R_{rbr_lower_strut}} + {R_{rbr_upper_strut}})],\n",
              "[                                                                                                                                       -A({P_{ground}})*{\\bar{u}^{ground}_{jcl_strut_chassis}} + A({P_{rbl_upper_strut}})*{\\bar{u}^{rbl_upper_strut}_{jcl_strut_chassis}} - {R_{ground}} + {R_{rbl_upper_strut}}],\n",
              "[                                                                                                                                                                           Mbar_rbl_upper_strut_jcl_strut_chassis[:,(0, 1)].T*A({P_{rbl_upper_strut}}).T*A({P_{ground}})*Mbar_ground_jcl_strut_chassis[:,(0, 1)]],\n",
              "[                                                                                                                                                                         Mbar_rbl_upper_strut_jcl_strut[:,(0, 1)].T*A({P_{rbl_upper_strut}}).T*A({P_{rbl_lower_strut}})*Mbar_rbl_lower_strut_jcl_strut[:,(2, 3)]],\n",
              "[                                                                                                                                                                         Mbar_rbl_upper_strut_jcl_strut[:,(1, 2)].T*A({P_{rbl_upper_strut}}).T*A({P_{rbl_lower_strut}})*Mbar_rbl_lower_strut_jcl_strut[:,(2, 3)]],\n",
              "[                                                    Mbar_rbl_upper_strut_jcl_strut[:,(0, 1)].T*A({P_{rbl_upper_strut}}).T*(-A({P_{rbl_lower_strut}})*{\\bar{u}^{rbl_lower_strut}_{jcl_strut}} + A({P_{rbl_upper_strut}})*{\\bar{u}^{rbl_upper_strut}_{jcl_strut}} - {R_{rbl_lower_strut}} + {R_{rbl_upper_strut}})],\n",
              "[                                                    Mbar_rbl_upper_strut_jcl_strut[:,(1, 2)].T*A({P_{rbl_upper_strut}}).T*(-A({P_{rbl_lower_strut}})*{\\bar{u}^{rbl_lower_strut}_{jcl_strut}} + A({P_{rbl_upper_strut}})*{\\bar{u}^{rbl_upper_strut}_{jcl_strut}} - {R_{rbl_lower_strut}} + {R_{rbl_upper_strut}})],\n",
              "[                                                                                                                                            -A({P_{rbr_lca}})*{\\bar{u}^{rbr_lca}_{jcr_strut_lca}} + A({P_{rbr_lower_strut}})*{\\bar{u}^{rbr_lower_strut}_{jcr_strut_lca}} - {R_{rbr_lca}} + {R_{rbr_lower_strut}}],\n",
              "[                                                                                                                                                                                 Mbar_rbr_lower_strut_jcr_strut_lca[:,(0, 1)].T*A({P_{rbr_lower_strut}}).T*A({P_{rbr_lca}})*Mbar_rbr_lca_jcr_strut_lca[:,(0, 1)]],\n",
              "[                                                                                                                                            -A({P_{rbl_lca}})*{\\bar{u}^{rbl_lca}_{jcl_strut_lca}} + A({P_{rbl_lower_strut}})*{\\bar{u}^{rbl_lower_strut}_{jcl_strut_lca}} - {R_{rbl_lca}} + {R_{rbl_lower_strut}}],\n",
              "[                                                                                                                                                                                 Mbar_rbl_lower_strut_jcl_strut_lca[:,(0, 1)].T*A({P_{rbl_lower_strut}}).T*A({P_{rbl_lca}})*Mbar_rbl_lca_jcl_strut_lca[:,(0, 1)]],\n",
              "[                                                                                                                                         A({P_{rbr_tie_rod}})*{\\bar{u}^{rbr_tie_rod}_{jcr_tie_upright}} - A({P_{rbr_upright}})*{\\bar{u}^{rbr_upright}_{jcr_tie_upright}} + {R_{rbr_tie_rod}} - {R_{rbr_upright}}],\n",
              "[                                                                                                                                                A({P_{rbr_tie_rod}})*{\\bar{u}^{rbr_tie_rod}_{jcr_tie_steering}} - A({P_{rbs_rack}})*{\\bar{u}^{rbs_rack}_{jcr_tie_steering}} + {R_{rbr_tie_rod}} - {R_{rbs_rack}}],\n",
              "[                                                                                                                                                                                 Mbar_rbr_tie_rod_jcr_tie_steering[:,(0, 1)].T*A({P_{rbr_tie_rod}}).T*A({P_{rbs_rack}})*Mbar_rbs_rack_jcr_tie_steering[:,(0, 1)]],\n",
              "[                                                                                                                                         A({P_{rbl_tie_rod}})*{\\bar{u}^{rbl_tie_rod}_{jcl_tie_upright}} - A({P_{rbl_upright}})*{\\bar{u}^{rbl_upright}_{jcl_tie_upright}} + {R_{rbl_tie_rod}} - {R_{rbl_upright}}],\n",
              "[                                                                                                                                                A({P_{rbl_tie_rod}})*{\\bar{u}^{rbl_tie_rod}_{jcl_tie_steering}} - A({P_{rbs_rack}})*{\\bar{u}^{rbs_rack}_{jcl_tie_steering}} + {R_{rbl_tie_rod}} - {R_{rbs_rack}}],\n",
              "[                                                                                                                                                                                 Mbar_rbl_tie_rod_jcl_tie_steering[:,(0, 1)].T*A({P_{rbl_tie_rod}}).T*A({P_{rbs_rack}})*Mbar_rbs_rack_jcl_tie_steering[:,(0, 1)]],\n",
              "[                                                                                                                      (-UF_mcr_wheel_travel(t))*I - A({P_{ground}})*{\\bar{u}^{ground}_{mcr_wheel_travel}} + {R_{ground}}[2, ''] + A({P_{rbr_hub}})*{\\bar{u}^{rbr_hub}_{mcr_wheel_travel}} + {R_{rbr_hub}}[2, '']],\n",
              "[                                                                                                                      (-UF_mcl_wheel_travel(t))*I - A({P_{ground}})*{\\bar{u}^{ground}_{mcl_wheel_travel}} + {R_{ground}}[2, ''] + A({P_{rbl_hub}})*{\\bar{u}^{rbl_hub}_{mcl_wheel_travel}} + {R_{rbl_hub}}[2, '']],\n",
              "[                                                                                                                                                                                               Mbar_rbs_rack_jcs_rack_joint[:,(0, 1)].T*A({P_{rbs_rack}}).T*A({P_{ground}})*Mbar_ground_jcs_rack_joint[:,(2, 3)]],\n",
              "[                                                                                                                                                                                               Mbar_rbs_rack_jcs_rack_joint[:,(1, 2)].T*A({P_{rbs_rack}}).T*A({P_{ground}})*Mbar_ground_jcs_rack_joint[:,(2, 3)]],\n",
              "[                                                                                                   Mbar_rbs_rack_jcs_rack_joint[:,(0, 1)].T*A({P_{rbs_rack}}).T*(-A({P_{ground}})*{\\bar{u}^{ground}_{jcs_rack_joint}} + A({P_{rbs_rack}})*{\\bar{u}^{rbs_rack}_{jcs_rack_joint}} - {R_{ground}} + {R_{rbs_rack}})],\n",
              "[                                                                                                   Mbar_rbs_rack_jcs_rack_joint[:,(1, 2)].T*A({P_{rbs_rack}}).T*(-A({P_{ground}})*{\\bar{u}^{ground}_{jcs_rack_joint}} + A({P_{rbs_rack}})*{\\bar{u}^{rbs_rack}_{jcs_rack_joint}} - {R_{ground}} + {R_{rbs_rack}})],\n",
              "[                                                                                                                                                                                               Mbar_rbs_rack_jcs_rack_joint[:,(0, 1)].T*A({P_{rbs_rack}}).T*A({P_{ground}})*Mbar_ground_jcs_rack_joint[:,(1, 2)]],\n",
              "[                                                                      (-UF_mcs_rack_travel(t))*I + Mbar_rbs_rack_jcs_rack_joint[:,(2, 3)].T*A({P_{rbs_rack}}).T*(-A({P_{ground}})*{\\bar{u}^{ground}_{jcs_rack_joint}} + A({P_{rbs_rack}})*{\\bar{u}^{rbs_rack}_{jcs_rack_joint}} - {R_{ground}} + {R_{rbs_rack}})],\n",
              "[                                                                                                                                                                                                                                                                                                    {R_{ground}}],\n",
              "[                                                                                                                                                                                                                                                                                    {P_{ground}} - {Pg_{ground}}],\n",
              "[                                                                                                                                                                                                                                                                              -I + {P_{rbr_uca}}.T*{P_{rbr_uca}}],\n",
              "[                                                                                                                                                                                                                                                                              -I + {P_{rbl_uca}}.T*{P_{rbl_uca}}],\n",
              "[                                                                                                                                                                                                                                                                              -I + {P_{rbr_lca}}.T*{P_{rbr_lca}}],\n",
              "[                                                                                                                                                                                                                                                                              -I + {P_{rbl_lca}}.T*{P_{rbl_lca}}],\n",
              "[                                                                                                                                                                                                                                                                      -I + {P_{rbr_upright}}.T*{P_{rbr_upright}}],\n",
              "[                                                                                                                                                                                                                                                                      -I + {P_{rbl_upright}}.T*{P_{rbl_upright}}],\n",
              "[                                                                                                                                                                                                                                                              -I + {P_{rbr_upper_strut}}.T*{P_{rbr_upper_strut}}],\n",
              "[                                                                                                                                                                                                                                                              -I + {P_{rbl_upper_strut}}.T*{P_{rbl_upper_strut}}],\n",
              "[                                                                                                                                                                                                                                                              -I + {P_{rbr_lower_strut}}.T*{P_{rbr_lower_strut}}],\n",
              "[                                                                                                                                                                                                                                                              -I + {P_{rbl_lower_strut}}.T*{P_{rbl_lower_strut}}],\n",
              "[                                                                                                                                                                                                                                                                      -I + {P_{rbr_tie_rod}}.T*{P_{rbr_tie_rod}}],\n",
              "[                                                                                                                                                                                                                                                                      -I + {P_{rbl_tie_rod}}.T*{P_{rbl_tie_rod}}],\n",
              "[                                                                                                                                                                                                                                                                              -I + {P_{rbr_hub}}.T*{P_{rbr_hub}}],\n",
              "[                                                                                                                                                                                                                                                                              -I + {P_{rbl_hub}}.T*{P_{rbl_hub}}],\n",
              "[                                                                                                                                                                                                                                                                            -I + {P_{rbs_rack}}.T*{P_{rbs_rack}}]])"
            ],
            "text/latex": "$\\displaystyle \\left[\\begin{matrix}- {A({P_{ground}})} {\\bar{u}^{ground}_{jcr_uca_chassis}} + {A({P_{rbr_uca}})} {\\bar{u}^{rbr_uca}_{jcr_uca_chassis}} - {R_{ground}} + {R_{rbr_uca}}\\\\\\left({\\hat{i}_{{\\bar{M}^{rbr_uca}_{jcr_uca_chassis}}}}\\right)^{T} \\left({A({P_{rbr_uca}})}\\right)^{T} {A({P_{ground}})} {\\hat{k}_{{\\bar{M}^{ground}_{jcr_uca_chassis}}}}\\\\\\left({\\hat{j}_{{\\bar{M}^{rbr_uca}_{jcr_uca_chassis}}}}\\right)^{T} \\left({A({P_{rbr_uca}})}\\right)^{T} {A({P_{ground}})} {\\hat{k}_{{\\bar{M}^{ground}_{jcr_uca_chassis}}}}\\\\{A({P_{rbr_uca}})} {\\bar{u}^{rbr_uca}_{jcr_uca_upright}} - {A({P_{rbr_upright}})} {\\bar{u}^{rbr_upright}_{jcr_uca_upright}} + {R_{rbr_uca}} - {R_{rbr_upright}}\\\\- {A({P_{ground}})} {\\bar{u}^{ground}_{jcl_uca_chassis}} + {A({P_{rbl_uca}})} {\\bar{u}^{rbl_uca}_{jcl_uca_chassis}} - {R_{ground}} + {R_{rbl_uca}}\\\\\\left({\\hat{i}_{{\\bar{M}^{rbl_uca}_{jcl_uca_chassis}}}}\\right)^{T} \\left({A({P_{rbl_uca}})}\\right)^{T} {A({P_{ground}})} {\\hat{k}_{{\\bar{M}^{ground}_{jcl_uca_chassis}}}}\\\\\\left({\\hat{j}_{{\\bar{M}^{rbl_uca}_{jcl_uca_chassis}}}}\\right)^{T} \\left({A({P_{rbl_uca}})}\\right)^{T} {A({P_{ground}})} {\\hat{k}_{{\\bar{M}^{ground}_{jcl_uca_chassis}}}}\\\\{A({P_{rbl_uca}})} {\\bar{u}^{rbl_uca}_{jcl_uca_upright}} - {A({P_{rbl_upright}})} {\\bar{u}^{rbl_upright}_{jcl_uca_upright}} + {R_{rbl_uca}} - {R_{rbl_upright}}\\\\- {A({P_{ground}})} {\\bar{u}^{ground}_{jcr_lca_chassis}} + {A({P_{rbr_lca}})} {\\bar{u}^{rbr_lca}_{jcr_lca_chassis}} - {R_{ground}} + {R_{rbr_lca}}\\\\\\left({\\hat{i}_{{\\bar{M}^{rbr_lca}_{jcr_lca_chassis}}}}\\right)^{T} \\left({A({P_{rbr_lca}})}\\right)^{T} {A({P_{ground}})} {\\hat{k}_{{\\bar{M}^{ground}_{jcr_lca_chassis}}}}\\\\\\left({\\hat{j}_{{\\bar{M}^{rbr_lca}_{jcr_lca_chassis}}}}\\right)^{T} \\left({A({P_{rbr_lca}})}\\right)^{T} {A({P_{ground}})} {\\hat{k}_{{\\bar{M}^{ground}_{jcr_lca_chassis}}}}\\\\{A({P_{rbr_lca}})} {\\bar{u}^{rbr_lca}_{jcr_lca_upright}} - {A({P_{rbr_upright}})} {\\bar{u}^{rbr_upright}_{jcr_lca_upright}} + {R_{rbr_lca}} - {R_{rbr_upright}}\\\\- {A({P_{ground}})} {\\bar{u}^{ground}_{jcl_lca_chassis}} + {A({P_{rbl_lca}})} {\\bar{u}^{rbl_lca}_{jcl_lca_chassis}} - {R_{ground}} + {R_{rbl_lca}}\\\\\\left({\\hat{i}_{{\\bar{M}^{rbl_lca}_{jcl_lca_chassis}}}}\\right)^{T} \\left({A({P_{rbl_lca}})}\\right)^{T} {A({P_{ground}})} {\\hat{k}_{{\\bar{M}^{ground}_{jcl_lca_chassis}}}}\\\\\\left({\\hat{j}_{{\\bar{M}^{rbl_lca}_{jcl_lca_chassis}}}}\\right)^{T} \\left({A({P_{rbl_lca}})}\\right)^{T} {A({P_{ground}})} {\\hat{k}_{{\\bar{M}^{ground}_{jcl_lca_chassis}}}}\\\\{A({P_{rbl_lca}})} {\\bar{u}^{rbl_lca}_{jcl_lca_upright}} - {A({P_{rbl_upright}})} {\\bar{u}^{rbl_upright}_{jcl_lca_upright}} + {R_{rbl_lca}} - {R_{rbl_upright}}\\\\- {A({P_{rbr_hub}})} {\\bar{u}^{rbr_hub}_{jcr_hub_bearing}} + {A({P_{rbr_upright}})} {\\bar{u}^{rbr_upright}_{jcr_hub_bearing}} - {R_{rbr_hub}} + {R_{rbr_upright}}\\\\\\left({\\hat{i}_{{\\bar{M}^{rbr_upright}_{jcr_hub_bearing}}}}\\right)^{T} \\left({A({P_{rbr_upright}})}\\right)^{T} {A({P_{rbr_hub}})} {\\hat{k}_{{\\bar{M}^{rbr_hub}_{jcr_hub_bearing}}}}\\\\\\left({\\hat{j}_{{\\bar{M}^{rbr_upright}_{jcr_hub_bearing}}}}\\right)^{T} \\left({A({P_{rbr_upright}})}\\right)^{T} {A({P_{rbr_hub}})} {\\hat{k}_{{\\bar{M}^{rbr_hub}_{jcr_hub_bearing}}}}\\\\- \\sin{\\left(\\operatorname{UF_{mcr wheel lock}}{\\left(t \\right)} \\right)} \\left({\\hat{i}_{{\\bar{M}^{rbr_upright}_{jcr_hub_bearing}}}}\\right)^{T} \\left({A({P_{rbr_upright}})}\\right)^{T} {A({P_{rbr_hub}})} {\\hat{i}_{{\\bar{M}^{rbr_hub}_{jcr_hub_bearing}}}} + \\cos{\\left(\\operatorname{UF_{mcr wheel lock}}{\\left(t \\right)} \\right)} \\left({\\hat{j}_{{\\bar{M}^{rbr_upright}_{jcr_hub_bearing}}}}\\right)^{T} \\left({A({P_{rbr_upright}})}\\right)^{T} {A({P_{rbr_hub}})} {\\hat{i}_{{\\bar{M}^{rbr_hub}_{jcr_hub_bearing}}}}\\\\- {A({P_{rbl_hub}})} {\\bar{u}^{rbl_hub}_{jcl_hub_bearing}} + {A({P_{rbl_upright}})} {\\bar{u}^{rbl_upright}_{jcl_hub_bearing}} - {R_{rbl_hub}} + {R_{rbl_upright}}\\\\\\left({\\hat{i}_{{\\bar{M}^{rbl_upright}_{jcl_hub_bearing}}}}\\right)^{T} \\left({A({P_{rbl_upright}})}\\right)^{T} {A({P_{rbl_hub}})} {\\hat{k}_{{\\bar{M}^{rbl_hub}_{jcl_hub_bearing}}}}\\\\\\left({\\hat{j}_{{\\bar{M}^{rbl_upright}_{jcl_hub_bearing}}}}\\right)^{T} \\left({A({P_{rbl_upright}})}\\right)^{T} {A({P_{rbl_hub}})} {\\hat{k}_{{\\bar{M}^{rbl_hub}_{jcl_hub_bearing}}}}\\\\- \\sin{\\left(\\operatorname{UF_{mcl wheel lock}}{\\left(t \\right)} \\right)} \\left({\\hat{i}_{{\\bar{M}^{rbl_upright}_{jcl_hub_bearing}}}}\\right)^{T} \\left({A({P_{rbl_upright}})}\\right)^{T} {A({P_{rbl_hub}})} {\\hat{i}_{{\\bar{M}^{rbl_hub}_{jcl_hub_bearing}}}} + \\cos{\\left(\\operatorname{UF_{mcl wheel lock}}{\\left(t \\right)} \\right)} \\left({\\hat{j}_{{\\bar{M}^{rbl_upright}_{jcl_hub_bearing}}}}\\right)^{T} \\left({A({P_{rbl_upright}})}\\right)^{T} {A({P_{rbl_hub}})} {\\hat{i}_{{\\bar{M}^{rbl_hub}_{jcl_hub_bearing}}}}\\\\- {A({P_{ground}})} {\\bar{u}^{ground}_{jcr_strut_chassis}} + {A({P_{rbr_upper_strut}})} {\\bar{u}^{rbr_upper_strut}_{jcr_strut_chassis}} - {R_{ground}} + {R_{rbr_upper_strut}}\\\\\\left({\\hat{i}_{{\\bar{M}^{rbr_upper_strut}_{jcr_strut_chassis}}}}\\right)^{T} \\left({A({P_{rbr_upper_strut}})}\\right)^{T} {A({P_{ground}})} {\\hat{i}_{{\\bar{M}^{ground}_{jcr_strut_chassis}}}}\\\\\\left({\\hat{i}_{{\\bar{M}^{rbr_upper_strut}_{jcr_strut}}}}\\right)^{T} \\left({A({P_{rbr_upper_strut}})}\\right)^{T} {A({P_{rbr_lower_strut}})} {\\hat{k}_{{\\bar{M}^{rbr_lower_strut}_{jcr_strut}}}}\\\\\\left({\\hat{j}_{{\\bar{M}^{rbr_upper_strut}_{jcr_strut}}}}\\right)^{T} \\left({A({P_{rbr_upper_strut}})}\\right)^{T} {A({P_{rbr_lower_strut}})} {\\hat{k}_{{\\bar{M}^{rbr_lower_strut}_{jcr_strut}}}}\\\\\\left({\\hat{i}_{{\\bar{M}^{rbr_upper_strut}_{jcr_strut}}}}\\right)^{T} \\left({A({P_{rbr_upper_strut}})}\\right)^{T} \\left(- {A({P_{rbr_lower_strut}})} {\\bar{u}^{rbr_lower_strut}_{jcr_strut}} + {A({P_{rbr_upper_strut}})} {\\bar{u}^{rbr_upper_strut}_{jcr_strut}} - {R_{rbr_lower_strut}} + {R_{rbr_upper_strut}}\\right)\\\\\\left({\\hat{j}_{{\\bar{M}^{rbr_upper_strut}_{jcr_strut}}}}\\right)^{T} \\left({A({P_{rbr_upper_strut}})}\\right)^{T} \\left(- {A({P_{rbr_lower_strut}})} {\\bar{u}^{rbr_lower_strut}_{jcr_strut}} + {A({P_{rbr_upper_strut}})} {\\bar{u}^{rbr_upper_strut}_{jcr_strut}} - {R_{rbr_lower_strut}} + {R_{rbr_upper_strut}}\\right)\\\\- {A({P_{ground}})} {\\bar{u}^{ground}_{jcl_strut_chassis}} + {A({P_{rbl_upper_strut}})} {\\bar{u}^{rbl_upper_strut}_{jcl_strut_chassis}} - {R_{ground}} + {R_{rbl_upper_strut}}\\\\\\left({\\hat{i}_{{\\bar{M}^{rbl_upper_strut}_{jcl_strut_chassis}}}}\\right)^{T} \\left({A({P_{rbl_upper_strut}})}\\right)^{T} {A({P_{ground}})} {\\hat{i}_{{\\bar{M}^{ground}_{jcl_strut_chassis}}}}\\\\\\left({\\hat{i}_{{\\bar{M}^{rbl_upper_strut}_{jcl_strut}}}}\\right)^{T} \\left({A({P_{rbl_upper_strut}})}\\right)^{T} {A({P_{rbl_lower_strut}})} {\\hat{k}_{{\\bar{M}^{rbl_lower_strut}_{jcl_strut}}}}\\\\\\left({\\hat{j}_{{\\bar{M}^{rbl_upper_strut}_{jcl_strut}}}}\\right)^{T} \\left({A({P_{rbl_upper_strut}})}\\right)^{T} {A({P_{rbl_lower_strut}})} {\\hat{k}_{{\\bar{M}^{rbl_lower_strut}_{jcl_strut}}}}\\\\\\left({\\hat{i}_{{\\bar{M}^{rbl_upper_strut}_{jcl_strut}}}}\\right)^{T} \\left({A({P_{rbl_upper_strut}})}\\right)^{T} \\left(- {A({P_{rbl_lower_strut}})} {\\bar{u}^{rbl_lower_strut}_{jcl_strut}} + {A({P_{rbl_upper_strut}})} {\\bar{u}^{rbl_upper_strut}_{jcl_strut}} - {R_{rbl_lower_strut}} + {R_{rbl_upper_strut}}\\right)\\\\\\left({\\hat{j}_{{\\bar{M}^{rbl_upper_strut}_{jcl_strut}}}}\\right)^{T} \\left({A({P_{rbl_upper_strut}})}\\right)^{T} \\left(- {A({P_{rbl_lower_strut}})} {\\bar{u}^{rbl_lower_strut}_{jcl_strut}} + {A({P_{rbl_upper_strut}})} {\\bar{u}^{rbl_upper_strut}_{jcl_strut}} - {R_{rbl_lower_strut}} + {R_{rbl_upper_strut}}\\right)\\\\- {A({P_{rbr_lca}})} {\\bar{u}^{rbr_lca}_{jcr_strut_lca}} + {A({P_{rbr_lower_strut}})} {\\bar{u}^{rbr_lower_strut}_{jcr_strut_lca}} - {R_{rbr_lca}} + {R_{rbr_lower_strut}}\\\\\\left({\\hat{i}_{{\\bar{M}^{rbr_lower_strut}_{jcr_strut_lca}}}}\\right)^{T} \\left({A({P_{rbr_lower_strut}})}\\right)^{T} {A({P_{rbr_lca}})} {\\hat{i}_{{\\bar{M}^{rbr_lca}_{jcr_strut_lca}}}}\\\\- {A({P_{rbl_lca}})} {\\bar{u}^{rbl_lca}_{jcl_strut_lca}} + {A({P_{rbl_lower_strut}})} {\\bar{u}^{rbl_lower_strut}_{jcl_strut_lca}} - {R_{rbl_lca}} + {R_{rbl_lower_strut}}\\\\\\left({\\hat{i}_{{\\bar{M}^{rbl_lower_strut}_{jcl_strut_lca}}}}\\right)^{T} \\left({A({P_{rbl_lower_strut}})}\\right)^{T} {A({P_{rbl_lca}})} {\\hat{i}_{{\\bar{M}^{rbl_lca}_{jcl_strut_lca}}}}\\\\{A({P_{rbr_tie_rod}})} {\\bar{u}^{rbr_tie_rod}_{jcr_tie_upright}} - {A({P_{rbr_upright}})} {\\bar{u}^{rbr_upright}_{jcr_tie_upright}} + {R_{rbr_tie_rod}} - {R_{rbr_upright}}\\\\{A({P_{rbr_tie_rod}})} {\\bar{u}^{rbr_tie_rod}_{jcr_tie_steering}} - {A({P_{rbs_rack}})} {\\bar{u}^{rbs_rack}_{jcr_tie_steering}} + {R_{rbr_tie_rod}} - {R_{rbs_rack}}\\\\\\left({\\hat{i}_{{\\bar{M}^{rbr_tie_rod}_{jcr_tie_steering}}}}\\right)^{T} \\left({A({P_{rbr_tie_rod}})}\\right)^{T} {A({P_{rbs_rack}})} {\\hat{i}_{{\\bar{M}^{rbs_rack}_{jcr_tie_steering}}}}\\\\{A({P_{rbl_tie_rod}})} {\\bar{u}^{rbl_tie_rod}_{jcl_tie_upright}} - {A({P_{rbl_upright}})} {\\bar{u}^{rbl_upright}_{jcl_tie_upright}} + {R_{rbl_tie_rod}} - {R_{rbl_upright}}\\\\{A({P_{rbl_tie_rod}})} {\\bar{u}^{rbl_tie_rod}_{jcl_tie_steering}} - {A({P_{rbs_rack}})} {\\bar{u}^{rbs_rack}_{jcl_tie_steering}} + {R_{rbl_tie_rod}} - {R_{rbs_rack}}\\\\\\left({\\hat{i}_{{\\bar{M}^{rbl_tie_rod}_{jcl_tie_steering}}}}\\right)^{T} \\left({A({P_{rbl_tie_rod}})}\\right)^{T} {A({P_{rbs_rack}})} {\\hat{i}_{{\\bar{M}^{rbs_rack}_{jcl_tie_steering}}}}\\\\- \\operatorname{UF_{mcr wheel travel}}{\\left(t \\right)} \\mathbb{I} - {A({P_{ground}})} {\\bar{u}^{ground}_{mcr_wheel_travel}} + {R_{ground}}\\left[2, \\right] + {A({P_{rbr_hub}})} {\\bar{u}^{rbr_hub}_{mcr_wheel_travel}} + {R_{rbr_hub}}\\left[2, \\right]\\\\- \\operatorname{UF_{mcl wheel travel}}{\\left(t \\right)} \\mathbb{I} - {A({P_{ground}})} {\\bar{u}^{ground}_{mcl_wheel_travel}} + {R_{ground}}\\left[2, \\right] + {A({P_{rbl_hub}})} {\\bar{u}^{rbl_hub}_{mcl_wheel_travel}} + {R_{rbl_hub}}\\left[2, \\right]\\\\\\left({\\hat{i}_{{\\bar{M}^{rbs_rack}_{jcs_rack_joint}}}}\\right)^{T} \\left({A({P_{rbs_rack}})}\\right)^{T} {A({P_{ground}})} {\\hat{k}_{{\\bar{M}^{ground}_{jcs_rack_joint}}}}\\\\\\left({\\hat{j}_{{\\bar{M}^{rbs_rack}_{jcs_rack_joint}}}}\\right)^{T} \\left({A({P_{rbs_rack}})}\\right)^{T} {A({P_{ground}})} {\\hat{k}_{{\\bar{M}^{ground}_{jcs_rack_joint}}}}\\\\\\left({\\hat{i}_{{\\bar{M}^{rbs_rack}_{jcs_rack_joint}}}}\\right)^{T} \\left({A({P_{rbs_rack}})}\\right)^{T} \\left(- {A({P_{ground}})} {\\bar{u}^{ground}_{jcs_rack_joint}} + {A({P_{rbs_rack}})} {\\bar{u}^{rbs_rack}_{jcs_rack_joint}} - {R_{ground}} + {R_{rbs_rack}}\\right)\\\\\\left({\\hat{j}_{{\\bar{M}^{rbs_rack}_{jcs_rack_joint}}}}\\right)^{T} \\left({A({P_{rbs_rack}})}\\right)^{T} \\left(- {A({P_{ground}})} {\\bar{u}^{ground}_{jcs_rack_joint}} + {A({P_{rbs_rack}})} {\\bar{u}^{rbs_rack}_{jcs_rack_joint}} - {R_{ground}} + {R_{rbs_rack}}\\right)\\\\\\left({\\hat{i}_{{\\bar{M}^{rbs_rack}_{jcs_rack_joint}}}}\\right)^{T} \\left({A({P_{rbs_rack}})}\\right)^{T} {A({P_{ground}})} {\\hat{j}_{{\\bar{M}^{ground}_{jcs_rack_joint}}}}\\\\- \\operatorname{UF_{mcs rack travel}}{\\left(t \\right)} \\mathbb{I} + \\left({\\hat{k}_{{\\bar{M}^{rbs_rack}_{jcs_rack_joint}}}}\\right)^{T} \\left({A({P_{rbs_rack}})}\\right)^{T} \\left(- {A({P_{ground}})} {\\bar{u}^{ground}_{jcs_rack_joint}} + {A({P_{rbs_rack}})} {\\bar{u}^{rbs_rack}_{jcs_rack_joint}} - {R_{ground}} + {R_{rbs_rack}}\\right)\\\\{R_{ground}}\\\\{P_{ground}} - {Pg_{ground}}\\\\- \\mathbb{I} + {P_{rbr_uca}}^{T} {P_{rbr_uca}}\\\\- \\mathbb{I} + {P_{rbl_uca}}^{T} {P_{rbl_uca}}\\\\- \\mathbb{I} + {P_{rbr_lca}}^{T} {P_{rbr_lca}}\\\\- \\mathbb{I} + {P_{rbl_lca}}^{T} {P_{rbl_lca}}\\\\- \\mathbb{I} + {P_{rbr_upright}}^{T} {P_{rbr_upright}}\\\\- \\mathbb{I} + {P_{rbl_upright}}^{T} {P_{rbl_upright}}\\\\- \\mathbb{I} + {P_{rbr_upper_strut}}^{T} {P_{rbr_upper_strut}}\\\\- \\mathbb{I} + {P_{rbl_upper_strut}}^{T} {P_{rbl_upper_strut}}\\\\- \\mathbb{I} + {P_{rbr_lower_strut}}^{T} {P_{rbr_lower_strut}}\\\\- \\mathbb{I} + {P_{rbl_lower_strut}}^{T} {P_{rbl_lower_strut}}\\\\- \\mathbb{I} + {P_{rbr_tie_rod}}^{T} {P_{rbr_tie_rod}}\\\\- \\mathbb{I} + {P_{rbl_tie_rod}}^{T} {P_{rbl_tie_rod}}\\\\- \\mathbb{I} + {P_{rbr_hub}}^{T} {P_{rbr_hub}}\\\\- \\mathbb{I} + {P_{rbl_hub}}^{T} {P_{rbl_hub}}\\\\- \\mathbb{I} + {P_{rbs_rack}}^{T} {P_{rbs_rack}}\\end{matrix}\\right]$"
          },
          "metadata": {},
          "execution_count": 7
        }
      ],
      "source": [
        "sym_model.topology.pos_equations"
      ]
    },
    {
      "cell_type": "markdown",
      "metadata": {
        "id": "mZWwFDxS9FEP"
      },
      "source": [
        "---------------------------------------------------------------\n",
        "---------------------------------------------------------------"
      ]
    },
    {
      "cell_type": "markdown",
      "metadata": {
        "id": "_5qHyvK49FEP"
      },
      "source": [
        "## **Symbolic Configuration**\n",
        "---------------------------\n",
        "In this step we define a symbolic configuration of our symbolic topology. As you may have noticed in the symbolic topology building step, we only cared about the **_topology_**, thats is the system bodies and their connectivity, and we did not care explicitly with how these components are configured in space.</br>\n",
        "\n",
        "In order to create a valid numerical simulation session, we have to provide the system with its numerical configuration needed, for example, the joints\" locations and orientations. The symbolic topology in its raw form will require you to manually enter all these numerical arguments, which can be cumbersome even for smaller systems. This can be checked by checking the configuration inputs of the symbolic configuration as ```sym_config.config.input_nodes```\n",
        "\n",
        "Here we start by stating the symbolic inputs we wish to use instead of the default inputs set, and then we define the relation between these newly defined arguments and the original ones.\n",
        "\n",
        "**_The details of this process will be provided in the documentation._**"
      ]
    },
    {
      "cell_type": "code",
      "execution_count": 8,
      "metadata": {
        "id": "CZiHCJjE9FEQ"
      },
      "outputs": [],
      "source": [
        "# ============================================================= #\n",
        "#                     Symbolic Configuration\n",
        "# ============================================================= #\n",
        "\n",
        "# Symbolic configuration name.\n",
        "config_name = \"%s_cfg\"%project_name\n",
        "\n",
        "# Symbolic configuration instance.\n",
        "sym_config = configuration(config_name, sym_model)"
      ]
    },
    {
      "cell_type": "markdown",
      "metadata": {
        "id": "CrJcxthN9FEQ"
      },
      "source": [
        "### Configuration Inputs"
      ]
    },
    {
      "cell_type": "code",
      "execution_count": 9,
      "metadata": {
        "id": "5z4rUlri9FEU"
      },
      "outputs": [],
      "source": [
        "# Adding the desired set of UserInputs\n",
        "# ====================================\n",
        "\n",
        "# Upper Control Arm Points\n",
        "# ========================\n",
        "sym_config.add_point.UserInput(\"ucaf\", mirror=True)\n",
        "sym_config.add_point.UserInput(\"ucar\", mirror=True)\n",
        "sym_config.add_point.UserInput(\"ucao\", mirror=True)\n",
        "\n",
        "# Lower Control Arm Points\n",
        "# ========================\n",
        "sym_config.add_point.UserInput(\"lcaf\", mirror=True)\n",
        "sym_config.add_point.UserInput(\"lcar\", mirror=True)\n",
        "sym_config.add_point.UserInput(\"lcao\", mirror=True)\n",
        "\n",
        "# Tie-Rod Points\n",
        "# ==============\n",
        "sym_config.add_point.UserInput(\"tro\", mirror=True)\n",
        "sym_config.add_point.UserInput(\"tri\", mirror=True)\n",
        "\n",
        "# Spring-Damper Points\n",
        "# ====================\n",
        "sym_config.add_point.UserInput(\"strut_chassis\", mirror=True)\n",
        "sym_config.add_point.UserInput(\"strut_lca\", mirror=True)\n",
        "sym_config.add_point.UserInput(\"strut_mid\", mirror=True)\n",
        "\n",
        "# Wheel Center Points\n",
        "# ===================\n",
        "sym_config.add_point.UserInput(\"wc\", mirror=True)\n",
        "sym_config.add_point.UserInput(\"wc1\", mirror=True)\n",
        "sym_config.add_point.UserInput(\"wc2\", mirror=True)\n",
        "\n",
        "# Guiding Global Axes\n",
        "# ===================\n",
        "sym_config.add_vector.UserInput(\"x\")\n",
        "sym_config.add_vector.UserInput(\"y\")\n",
        "sym_config.add_vector.UserInput(\"z\")\n",
        "\n",
        "# Scalar Variables\n",
        "# ================\n",
        "sym_config.add_scalar.UserInput(\"strut_freelength\")\n"
      ]
    },
    {
      "cell_type": "markdown",
      "metadata": {
        "id": "eps6shze9FEU"
      },
      "source": [
        "### Configuration Releations"
      ]
    },
    {
      "cell_type": "code",
      "execution_count": 10,
      "metadata": {
        "id": "xuBYYKnzSaYc"
      },
      "outputs": [],
      "source": [
        "# Defining Relations between original topology inputs\n",
        "# and our desired UserInputs.\n",
        "# ===================================================\n",
        "\n",
        "# Defining Relations\n",
        "# ==================\n",
        "sym_config.add_point.Centered(\"strut_mid\", (\"hpr_strut_chassis\", \"hpr_strut_lca\"), mirror=True)\n",
        "\n",
        "# UCA_Upright Spherical joint\n",
        "# ===========================\n",
        "sym_config.add_relation.Equal_to(\"pt1_jcr_uca_upright\", (\"hpr_ucao\",), mirror=True)\n",
        "sym_config.add_relation.Equal_to(\"ax1_jcr_uca_upright\", (\"vcs_z\",), mirror=True)\n",
        "\n",
        "# LCA_Upright Spherical joint\n",
        "# ===========================\n",
        "sym_config.add_relation.Equal_to(\"pt1_jcr_lca_upright\", (\"hpr_lcao\",), mirror=True)\n",
        "sym_config.add_relation.Equal_to(\"ax1_jcr_lca_upright\", (\"vcs_z\",), mirror=True)\n",
        "\n",
        "# TieRod_Upright Spherical joint\n",
        "# ==============================\n",
        "sym_config.add_relation.Equal_to(\"pt1_jcr_tie_upright\", (\"hpr_tro\",), mirror=True)\n",
        "sym_config.add_relation.Equal_to(\"ax1_jcr_tie_upright\", (\"vcs_z\",), mirror=True)\n",
        "\n",
        "# Upper Control Arm Revolute Joint:\n",
        "# =================================\n",
        "sym_config.add_relation.Centered(\"pt1_jcr_uca_chassis\", (\"hpr_ucaf\",\"hpr_ucar\"), mirror=True)\n",
        "sym_config.add_relation.Oriented(\"ax1_jcr_uca_chassis\", (\"hpr_ucaf\",\"hpr_ucar\"), mirror=True)\n",
        "\n",
        "# Lower Control Arm Revolute Joint:\n",
        "# =================================\n",
        "sym_config.add_relation.Centered(\"pt1_jcr_lca_chassis\", (\"hpr_lcaf\",\"hpr_lcar\"), mirror=True)\n",
        "sym_config.add_relation.Oriented(\"ax1_jcr_lca_chassis\", (\"hpr_lcaf\",\"hpr_lcar\"), mirror=True)\n",
        "\n",
        "# Wheel Hub Revolute Joint:\n",
        "# =========================\n",
        "sym_config.add_relation.Equal_to(\"pt1_jcr_hub_bearing\", (\"hpr_wc\",), mirror=True)\n",
        "sym_config.add_relation.Equal_to(\"ax1_jcr_hub_bearing\", (\"vcs_y\",), mirror=True)\n",
        "\n",
        "# Strut-Chassis Universal Joint:\n",
        "# ==============================\n",
        "sym_config.add_relation.Equal_to(\"pt1_jcr_strut_chassis\", (\"hpr_strut_chassis\",), mirror=True)\n",
        "sym_config.add_relation.Oriented(\"ax1_jcr_strut_chassis\", (\"hpr_strut_chassis\",\"hpr_strut_lca\"), mirror=True)\n",
        "sym_config.add_relation.Oriented(\"ax2_jcr_strut_chassis\", (\"hpr_strut_lca\",\"hpr_strut_chassis\"), mirror=True)\n",
        "\n",
        "# Strut-LCA Universal Joint:\n",
        "# ==========================\n",
        "sym_config.add_relation.Equal_to(\"pt1_jcr_strut_lca\", (\"hpr_strut_lca\",), mirror=True)\n",
        "sym_config.add_relation.Oriented(\"ax1_jcr_strut_lca\", (\"hpr_strut_chassis\",\"hpr_strut_lca\"), mirror=True)\n",
        "sym_config.add_relation.Oriented(\"ax2_jcr_strut_lca\", (\"hpr_strut_lca\",\"hpr_strut_chassis\"), mirror=True)\n",
        "\n",
        "# Tie-Steer Universal Joint:\n",
        "# ==========================\n",
        "sym_config.add_relation.Equal_to(\"pt1_jcr_tie_steering\", (\"hpr_tri\",), mirror=True)\n",
        "sym_config.add_relation.Oriented(\"ax1_jcr_tie_steering\", (\"hpr_tri\",\"hpr_tro\"), mirror=True)\n",
        "sym_config.add_relation.Oriented(\"ax2_jcr_tie_steering\", (\"hpr_tro\",\"hpr_tri\"), mirror=True)\n",
        "\n",
        "# Strut Cylinderical Joint:\n",
        "# =========================\n",
        "sym_config.add_relation.Equal_to(\"pt1_jcr_strut\", (\"hpr_strut_mid\",), mirror=True)\n",
        "sym_config.add_relation.Oriented(\"ax1_jcr_strut\", (\"hpr_strut_lca\",\"hpr_strut_chassis\"), mirror=True)\n",
        "\n",
        "# Rack Translational Joint:\n",
        "# =========================\n",
        "sym_config.add_relation.Centered(\"pt1_jcs_rack_joint\", (\"hpr_tri\", \"hpl_tri\"))\n",
        "sym_config.add_relation.Oriented(\"ax1_jcs_rack_joint\", (\"hpr_tri\", \"hpl_tri\"))\n",
        "\n",
        "# Wheel_Travel Actuation point:\n",
        "# =============================\n",
        "sym_config.add_relation.Equal_to(\"pt1_mcr_wheel_travel\", (\"hpr_wc\",), mirror=True)\n",
        "\n",
        "\n",
        "# Strut Force Element:\n",
        "# ====================\n",
        "sym_config.add_relation.Equal_to(\"pt1_far_strut\", (\"hpr_strut_chassis\",), mirror=True)\n",
        "sym_config.add_relation.Equal_to(\"pt2_far_strut\", (\"hpr_strut_lca\",), mirror=True)\n",
        "sym_config.add_relation.Equal_to(\"far_strut_FL\", (\"s_strut_freelength\",), mirror=True)\n",
        "\n",
        "\n",
        "# Tire Force Element:\n",
        "# ===================\n",
        "sym_config.add_relation.Equal_to(\"pt1_far_tire\", (\"hpr_wc\",), mirror=True)\n"
      ]
    },
    {
      "cell_type": "markdown",
      "metadata": {
        "id": "sOCuM_Os9FEU"
      },
      "source": [
        "### Geometries\n",
        "\n",
        "Here we start defining basic geometric shapes that can represents the shapes of the bodies in our system. This serves two points:\n",
        "- Visualization and Animation using the provided uraeus.visenv packages.\n",
        "- Evaluating the bodies inertia properties from these basic geometries instead of explicit definition."
      ]
    },
    {
      "cell_type": "markdown",
      "metadata": {
        "id": "kh7YC1kQ9FEU"
      },
      "source": [
        "### Geometries"
      ]
    },
    {
      "cell_type": "code",
      "execution_count": 11,
      "metadata": {
        "id": "j0LnDafB9FEU"
      },
      "outputs": [],
      "source": [
        "# Creating Geometries\n",
        "# ===================\n",
        "sym_config.add_scalar.UserInput(\"links_ro\")\n",
        "sym_config.add_scalar.UserInput(\"strut_outer\")\n",
        "sym_config.add_scalar.UserInput(\"strut_inner\")\n",
        "sym_config.add_scalar.UserInput(\"thickness\")\n",
        "sym_config.add_scalar.UserInput(\"hub_radius\")\n",
        "sym_config.add_scalar.UserInput(\"tire_radius\")\n",
        "sym_config.add_scalar.UserInput(\"rack_radius\")\n",
        "\n",
        "# Upper Control Arm\n",
        "# =================\n",
        "sym_config.add_geometry.Cylinder_Geometry(\"uca_c1\", (\"hpr_ucaf\", \"hpr_ucao\",\"s_links_ro\"), mirror=True)\n",
        "sym_config.add_geometry.Cylinder_Geometry(\"uca_c2\", (\"hpr_ucar\", \"hpr_ucao\",\"s_links_ro\"), mirror=True)\n",
        "sym_config.add_geometry.Composite_Geometry(\"uca\", (\"gmr_uca_c1\", \"gmr_uca_c2\"), mirror=True)\n",
        "sym_config.assign_geometry_to_body(\"rbr_uca\", \"gmr_uca\", mirror=True)\n",
        "\n",
        "# Lower Control Arm\n",
        "# =================\n",
        "sym_config.add_geometry.Cylinder_Geometry(\"lca_c1\", (\"hpr_lcaf\", \"hpr_lcao\",\"s_links_ro\"), mirror=True)\n",
        "sym_config.add_geometry.Cylinder_Geometry(\"lca_c2\", (\"hpr_lcar\", \"hpr_lcao\",\"s_links_ro\"), mirror=True)\n",
        "sym_config.add_geometry.Composite_Geometry(\"lca\", (\"gmr_lca_c1\", \"gmr_lca_c2\"), mirror=True)\n",
        "sym_config.assign_geometry_to_body(\"rbr_lca\", \"gmr_lca\", mirror=True)\n",
        "\n",
        "# Wheel Upright\n",
        "# =============\n",
        "sym_config.add_geometry.Triangular_Prism(\"upright\", (\"hpr_ucao\",\"hpr_wc\",\"hpr_lcao\",\"s_thickness\"), mirror=True)\n",
        "sym_config.assign_geometry_to_body(\"rbr_upright\", \"gmr_upright\", mirror=True)\n",
        "\n",
        "# Coil-Over Upper Part\n",
        "# ====================\n",
        "sym_config.add_geometry.Cylinder_Geometry(\"upper_strut\", (\"hpr_strut_chassis\",\"hpr_strut_mid\",\"s_strut_outer\"), mirror=True)\n",
        "sym_config.assign_geometry_to_body(\"rbr_upper_strut\", \"gmr_upper_strut\", mirror=True)\n",
        "\n",
        "# Coil-Over Lower Part\n",
        "# ====================\n",
        "sym_config.add_geometry.Cylinder_Geometry(\"lower_strut\", (\"hpr_strut_mid\",\"hpr_strut_lca\",\"s_strut_inner\"), mirror=True)\n",
        "sym_config.assign_geometry_to_body(\"rbr_lower_strut\", \"gmr_lower_strut\", mirror=True)\n",
        "\n",
        "# TieRod\n",
        "# ======\n",
        "sym_config.add_geometry.Cylinder_Geometry(\"tie_rod\", (\"hpr_tri\",\"hpr_tro\",\"s_links_ro\"), mirror=True)\n",
        "sym_config.assign_geometry_to_body(\"rbr_tie_rod\", \"gmr_tie_rod\", mirror=True)\n",
        "\n",
        "# Wheel Hub\n",
        "# =========\n",
        "sym_config.add_geometry.Cylinder_Geometry(\"hub_cyl\", (\"hpr_wc2\",\"hpr_wc\",\"s_hub_radius\"), mirror=True)\n",
        "sym_config.add_geometry.Cylinder_Geometry(\"tire\", (\"hpr_wc1\",\"hpr_wc\",\"s_tire_radius\"), mirror=True)\n",
        "sym_config.add_geometry.Composite_Geometry(\"hub\", (\"gmr_hub_cyl\", \"gmr_tire\"), mirror=True)\n",
        "sym_config.assign_geometry_to_body(\"rbr_hub\", \"gmr_hub\", mirror=True)\n",
        "\n",
        "# Steering Rack\n",
        "# =============\n",
        "sym_config.add_geometry.Cylinder_Geometry(\"rack\", (\"hpr_tri\",\"hpl_tri\",\"s_rack_radius\"))\n",
        "sym_config.assign_geometry_to_body(\"rbs_rack\", \"gms_rack\", mirror=True)"
      ]
    },
    {
      "cell_type": "markdown",
      "metadata": {
        "id": "eeeGUWEm9FEU"
      },
      "source": [
        "### Assembling"
      ]
    },
    {
      "cell_type": "code",
      "execution_count": 12,
      "metadata": {
        "id": "hWSj7ip49FEU"
      },
      "outputs": [],
      "source": [
        "# Exporing the configuration as a JSON file\n",
        "sym_config.export_JSON_file(data_dir)"
      ]
    },
    {
      "cell_type": "markdown",
      "metadata": {
        "id": "XpMU9qJF9FEU"
      },
      "source": [
        "---------------------------------------------------------------\n",
        "---------------------------------------------------------------"
      ]
    },
    {
      "cell_type": "markdown",
      "metadata": {
        "id": "R6ZgfimV9FEU"
      },
      "source": [
        "# 3. **NUMERICAL ENVIRONMENT GENERATION**\n",
        "This step aims to create a valid code that can be used for numerical simulation. We will use the **uraeus.nmbd.cpp** numerical environment to create a valid numerical simulation environment in C++.\n",
        "Theoretically, the symbolic environment is uncoupled from the simulation environment, which opens the door to create various simulation environments that can be in any language."
      ]
    },
    {
      "cell_type": "markdown",
      "metadata": {
        "id": "L5bC5_pQ9FEU"
      },
      "source": [
        "## Code-Generation\n",
        "Now we can use our symbolic model to generate the numerical code that can then be used for numerical simulations. For the **uraeus.nmbd.cpp** numerical environment, we import the `standalone_project` class from the `codegen` module and pass in our symbolic model.\n",
        "This will generate:\n",
        "- C++ source and header files representing the topology of our model.\n",
        "- C++ source and header files for a `Simulation` class exposing only the needed functionalities through a minimal API, that can be used in our `main.cpp`.\n",
        "- Cython wrappers for the C++ `Simulation` class so it can be accessed through python too.\n",
        "- CMakeLists.txt for automated cross-platform build-systems generation using CMake, building simulation executable and python extension modules."
      ]
    },
    {
      "cell_type": "code",
      "execution_count": 13,
      "metadata": {
        "colab": {
          "base_uri": "https://localhost:8080/"
        },
        "id": "O1HYpfx-9FEU",
        "outputId": "963a2e98-1768-48e3-bd65-d85585523bcf"
      },
      "outputs": [
        {
          "output_type": "stream",
          "name": "stdout",
          "text": [
            "Generated CMakeLists.txt at : model/numenv/cpp/CMakeLists.txt\n",
            "Generated topology header file at : model/numenv/cpp/src/double_wishbone_direct_acting.hpp\n",
            "Generated topology source file at : model/numenv/cpp/src/double_wishbone_direct_acting.cpp\n",
            "Generated simulation header file at : model/numenv/cpp/src/simulation.hpp\n",
            "Generated simulation source file at : model/numenv/cpp/src/simulation.cpp\n",
            "Generated simulation.pyx at : model/numenv/cpp/cython/simulation.pyx\n",
            "Generated simulation.pxd at : model/numenv/cpp/cython/simulation.pxd\n",
            "Generated call_obj.pyx file at model/numenv/cpp/cython\n",
            "Generated py_obj_wrapper.hpp file at model/numenv/cpp/cython\n",
            "Generated CMakeLists.txt file at model/numenv/cpp/cython\n"
          ]
        }
      ],
      "source": [
        "# ============================================================= #\n",
        "#                     Code Generation\n",
        "# ============================================================= #\n",
        "\n",
        "from uraeus.nmbd.cpp.codegen import standalone_project\n",
        "project = standalone_project(\"model\")\n",
        "project.create_dirs()\n",
        "\n",
        "project.write_topology_code(sym_model)"
      ]
    },
    {
      "cell_type": "markdown",
      "metadata": {
        "id": "XH4RWmbD9FEV"
      },
      "source": [
        "## Building Process"
      ]
    },
    {
      "cell_type": "markdown",
      "metadata": {
        "id": "D_GcelH89FEV"
      },
      "source": [
        "Generating needed source and header files from the generated cython scripts."
      ]
    },
    {
      "cell_type": "code",
      "execution_count": 14,
      "metadata": {
        "colab": {
          "base_uri": "https://localhost:8080/"
        },
        "id": "OWUv501PZFv7",
        "outputId": "843cfc75-88a1-44f4-af3c-5960c472c676"
      },
      "outputs": [
        {
          "output_type": "stream",
          "name": "stdout",
          "text": [
            "Compiling /content/model/numenv/cpp/cython/simulation.pyx because it changed.\n",
            "[1/1] Cythonizing /content/model/numenv/cpp/cython/simulation.pyx\n",
            "Compiling /content/model/numenv/cpp/cython/call_obj.pyx because it changed.\n",
            "[1/1] Cythonizing /content/model/numenv/cpp/cython/call_obj.pyx\n"
          ]
        }
      ],
      "source": [
        "!cd model/numenv/cpp/cython/ && cythonize simulation.pyx call_obj.pyx"
      ]
    },
    {
      "cell_type": "markdown",
      "metadata": {
        "id": "YrMgcJHx9FEV"
      },
      "source": [
        "### Creating main.cpp\n",
        "Here we have to write our simulation routine that will be used to produce the simulation executable.\n",
        "For this model, we only need to specify the name of the `json` file for the system configuration, and specify the desired time period and desired step-size.\n",
        "For other models we may have to specify the user-defined functions to control motion-actuators and generic force elements defined in our model.\n",
        "\n",
        "We use the `%%writefile <filename>` magic command to write the content of the cell to the specified file `<filename>`."
      ]
    },
    {
      "cell_type": "code",
      "execution_count": 15,
      "metadata": {
        "colab": {
          "base_uri": "https://localhost:8080/"
        },
        "id": "7l6euMjsVOL-",
        "outputId": "5ad5b938-b4e1-473c-a15d-364fb87a9f78"
      },
      "outputs": [
        {
          "output_type": "stream",
          "name": "stdout",
          "text": [
            "Writing model/numenv/cpp/src/main.cpp\n"
          ]
        }
      ],
      "source": [
        "%%writefile model/numenv/cpp/src/main.cpp\n",
        "\n",
        "#include \"simulation.hpp\"\n",
        "\n",
        "inline double springForce(double x)\n",
        "{\n",
        "    if (x>0){return 181.450*1e6*x;} else {return 0;};\n",
        "};\n",
        "\n",
        "inline double damperForce(double v)\n",
        "{\n",
        "    return 19*1e6 * v;\n",
        "};\n",
        "\n",
        "\n",
        "void ParallelTravel()\n",
        "{\n",
        "    std::cout << \"\\n\\n\";\n",
        "    std::cout << \"===========================================\\n\";\n",
        "    std::cout << \"Performing Parallel Wheel Travel Simulation\\n\";\n",
        "    std::cout << \"===========================================\\n\";\n",
        "\n",
        "    std::cout << \"\\nCalling Solver Default Constructor\\n\";\n",
        "    auto sim = Simulation();\n",
        "\n",
        "    std::cout << \"Calling constructFromJSON\\n\";\n",
        "    sim.ConstructConfiguration(\"configuration.json\");\n",
        "\n",
        "    // Setting Actuation Functions\n",
        "    // ===========================\n",
        "\n",
        "    // locking wheel spin\n",
        "    sim.set_UF_mcr_wheel_lock([](double t)->double{return 0;});\n",
        "    sim.set_UF_mcl_wheel_lock([](double t)->double{return 0;});\n",
        "\n",
        "    // applying vertical wheel travel\n",
        "    sim.set_UF_mcr_wheel_travel([](double t)->double{return 467 + 130*std::sin(t);});\n",
        "    sim.set_UF_mcl_wheel_travel([](double t)->double{return 467 + 130*std::sin(t);});\n",
        "\n",
        "    // locking the rack travel\n",
        "    sim.set_UF_mcs_rack_travel([](double t)->double{return 0;});\n",
        "\n",
        "    // struts stiffness and damping functions\n",
        "\n",
        "    sim.set_UF_far_strut_Fs(springForce);\n",
        "    sim.set_UF_fal_strut_Fs(springForce);\n",
        "\n",
        "    sim.set_UF_far_strut_Fd(damperForce);\n",
        "    sim.set_UF_fal_strut_Fd(damperForce);\n",
        "\n",
        "    // simulation period and stepsize\n",
        "    sim.Solve(2*22./7, 5e-3);\n",
        "\n",
        "    sim.SaveResults(\"\", \"parallel_travel\");\n",
        "};\n",
        "\n",
        "\n",
        "void OppositeTravel()\n",
        "{\n",
        "    std::cout << \"\\n\\n\";\n",
        "    std::cout << \"===========================================\\n\";\n",
        "    std::cout << \"Performing Opposite Wheel Travel Simulation\\n\";\n",
        "    std::cout << \"===========================================\\n\";\n",
        "\n",
        "    std::cout << \"\\nCalling Solver Default Constructor\\n\";\n",
        "    auto sim = Simulation();\n",
        "\n",
        "    std::cout << \"Calling constructFromJSON\\n\";\n",
        "    sim.ConstructConfiguration(\"configuration.json\");\n",
        "\n",
        "    // Setting Actuation Functions\n",
        "\n",
        "    // locking wheel spin\n",
        "    sim.set_UF_mcr_wheel_lock([](double t)->double{return 0;});\n",
        "    sim.set_UF_mcl_wheel_lock([](double t)->double{return 0;});\n",
        "\n",
        "    // applying vertical wheel travel\n",
        "    sim.set_UF_mcr_wheel_travel([](double t)->double{return 467 + 130*std::sin(t);});\n",
        "    sim.set_UF_mcl_wheel_travel([](double t)->double{return 467 - 130*std::sin(t);});\n",
        "\n",
        "    // locking the rack travel\n",
        "    sim.set_UF_mcs_rack_travel([](double t)->double{return 0;});\n",
        "\n",
        "    // struts stiffness and damping functions\n",
        "\n",
        "    sim.set_UF_far_strut_Fs(springForce);\n",
        "    sim.set_UF_fal_strut_Fs(springForce);\n",
        "\n",
        "    sim.set_UF_far_strut_Fd(damperForce);\n",
        "    sim.set_UF_fal_strut_Fd(damperForce);\n",
        "\n",
        "\n",
        "    // simulation period and stepsize\n",
        "    sim.Solve(2*22./7, 5e-3);\n",
        "\n",
        "    sim.SaveResults(\"\", \"opposite_travel\");\n",
        "};\n",
        "\n",
        "void RackTravel()\n",
        "{\n",
        "    std::cout << \"\\n\\n\";\n",
        "    std::cout << \"==========================================\\n\";\n",
        "    std::cout << \"Performing Steering Rack Travel Simulation\\n\";\n",
        "    std::cout << \"==========================================\\n\";\n",
        "\n",
        "    std::cout << \"\\nCalling Solver Default Constructor\\n\";\n",
        "    auto sim = Simulation();\n",
        "\n",
        "    std::cout << \"Calling constructFromJSON\\n\";\n",
        "    sim.ConstructConfiguration(\"configuration.json\");\n",
        "\n",
        "    // Setting Actuation Functions\n",
        "\n",
        "    // locking wheel spin\n",
        "    sim.set_UF_mcr_wheel_lock([](double t)->double{return 0;});\n",
        "    sim.set_UF_mcl_wheel_lock([](double t)->double{return 0;});\n",
        "\n",
        "    // applying vertical wheel travel\n",
        "    sim.set_UF_mcr_wheel_travel([](double t)->double{return 467;});\n",
        "    sim.set_UF_mcl_wheel_travel([](double t)->double{return 467;});\n",
        "\n",
        "    // locking the rack travel\n",
        "    sim.set_UF_mcs_rack_travel([](double t)->double{return 50*std::sin(t);});\n",
        "\n",
        "    // struts stiffness and damping functions\n",
        "\n",
        "    sim.set_UF_far_strut_Fs(springForce);\n",
        "    sim.set_UF_fal_strut_Fs(springForce);\n",
        "\n",
        "    sim.set_UF_far_strut_Fd(damperForce);\n",
        "    sim.set_UF_fal_strut_Fd(damperForce);\n",
        "\n",
        "\n",
        "    // simulation period and stepsize\n",
        "    sim.Solve(2*22./7, 5e-3);\n",
        "\n",
        "    sim.SaveResults(\"\", \"rack_travel\");\n",
        "};\n",
        "\n",
        "\n",
        "int main()\n",
        "{\n",
        "\n",
        "    ParallelTravel();\n",
        "    OppositeTravel();\n",
        "    RackTravel();\n",
        "\n",
        "    return 0;\n",
        "};\n"
      ]
    },
    {
      "cell_type": "markdown",
      "metadata": {
        "id": "Zx09um_K9FEV"
      },
      "source": [
        "### Building Simulation Binaries\n",
        "The code cell below invokes `cmake ..` to generate the build-system files needed to build the binaries in **Release** mode, then invokes `cmake --build .` to start the building process.\n",
        "\n",
        "This will produce a `model` executable and a `simulation.so` python extension module that can be imported as a normal python module. These will be placed in the `/bin` directory"
      ]
    },
    {
      "cell_type": "code",
      "execution_count": 16,
      "metadata": {
        "colab": {
          "base_uri": "https://localhost:8080/"
        },
        "id": "1FmXkq6pZVcO",
        "outputId": "1c27bd90-7275-4f9e-e608-f074547c6c4f"
      },
      "outputs": [
        {
          "output_type": "stream",
          "name": "stdout",
          "text": [
            "-- The CXX compiler identification is GNU 10.5.0\n",
            "-- Detecting CXX compiler ABI info\n",
            "-- Detecting CXX compiler ABI info - done\n",
            "-- Check for working CXX compiler: /usr/bin/c++ - skipped\n",
            "-- Detecting CXX compile features\n",
            "-- Detecting CXX compile features - done\n",
            "\u001b[0muraeus source directory : /content/uraeus_nmbd_cpp/uraeus/nmbd/cpp/engine/src\u001b[0m\n",
            "\u001b[0mcurrent source directory : /content/model/numenv/cpp\u001b[0m\n",
            "-- Found PythonInterp: /usr/bin/python3 (found suitable version \"3.10.12\", minimum required is \"3\") \n",
            "-- Found PythonLibs: /usr/lib/x86_64-linux-gnu/libpython3.10.so (found suitable version \"3.10.12\", minimum required is \"3\") \n",
            "\u001b[0mPython 3 Directory : /usr/include/python3.10\u001b[0m\n",
            "-- Configuring done\n",
            "-- Generating done\n",
            "-- Build files have been written to: /content/model/numenv/cpp/build\n",
            "[ 12%] \u001b[32mBuilding CXX object CMakeFiles/model_lib.dir/src/double_wishbone_direct_acting.cpp.o\u001b[0m\n",
            "[ 25%] \u001b[32mBuilding CXX object CMakeFiles/model_lib.dir/src/simulation.cpp.o\u001b[0m\n",
            "[ 37%] \u001b[32m\u001b[1mLinking CXX static library libmodel_lib.a\u001b[0m\n",
            "[ 37%] Built target model_lib\n",
            "[ 50%] \u001b[32mBuilding CXX object CMakeFiles/model.dir/src/main.cpp.o\u001b[0m\n",
            "[ 62%] \u001b[32m\u001b[1mLinking CXX executable /content/model/numenv/cpp/bin/model\u001b[0m\n",
            "[ 62%] Built target model\n",
            "[ 75%] \u001b[32mBuilding CXX object cython/CMakeFiles/simulation.dir/simulation.cpp.o\u001b[0m\n",
            "In file included from \u001b[01m\u001b[K/content/model/numenv/cpp/cython/simulation.cpp:792\u001b[m\u001b[K:\n",
            "\u001b[01m\u001b[K/content/model/numenv/cpp/cython/py_obj_wrapper.hpp:\u001b[m\u001b[K In member function ‘\u001b[01m\u001b[Kdouble PyObjWrapper::operator()(double)\u001b[m\u001b[K’:\n",
            "\u001b[01m\u001b[K/content/model/numenv/cpp/cython/py_obj_wrapper.hpp:59:8:\u001b[m\u001b[K \u001b[01;35m\u001b[Kwarning: \u001b[m\u001b[Kcontrol reaches end of non-void function [\u001b[01;35m\u001b[K\u001b]8;;https://gcc.gnu.org/onlinedocs/gcc/Warning-Options.html#index-Wreturn-type\u0007-Wreturn-type\u001b]8;;\u0007\u001b[m\u001b[K]\n",
            "   59 |  */    \u001b[01;35m\u001b[K}\u001b[m\u001b[K\n",
            "      |        \u001b[01;35m\u001b[K^\u001b[m\u001b[K\n",
            "[ 87%] \u001b[32mBuilding CXX object cython/CMakeFiles/simulation.dir/call_obj.cpp.o\u001b[0m\n",
            "[100%] \u001b[32m\u001b[1mLinking CXX shared library simulation.so\u001b[0m\n",
            "[100%] Built target simulation\n"
          ]
        }
      ],
      "source": [
        "!cd model/numenv/cpp/build && cmake .. -DCMAKE_BUILD_TYPE=Release && cmake --build ."
      ]
    },
    {
      "cell_type": "markdown",
      "metadata": {
        "id": "K54RnQXS9FEV"
      },
      "source": [
        "---\n",
        "---"
      ]
    },
    {
      "cell_type": "markdown",
      "metadata": {
        "id": "BSHAmg4W9FEV"
      },
      "source": [
        "# 4. **NUMERICAL SIMULATION**\n",
        "Now we can advance to the **nuemrical simulation** step. In order to perform our desired simulation, we should first define our model numerical configuration data. These data represents how our model is placed in 3D space, where the bodies are located and how they are oriented as well as the other physical components existing in the system.\n",
        "\n",
        "At the **Symbolic Configuration** step we defined some **user inputs** and some **relations** that states how our system is configured symbolically. These data is stored in a `.json` file at the `/symenv/data/` directory. All we have to do is to make a copy of this file and fill in our numerical configuration data for our defined `user_inputs`.\n",
        "\n",
        "This file should be passed to our executable to construct the numerical topology correctly."
      ]
    },
    {
      "cell_type": "markdown",
      "metadata": {
        "id": "TqFQzM2E9FEV"
      },
      "source": [
        "In order to provide the numerical configuration data, we have to write a `configuration.json` file and save it at `numenv/cpp/bin/`. Using the `%pycat <filename>` magic command in Colab will open a side tab containing the file content, we can copy the content and past it in anotehr code cell and apply our modifications, then we use the `%%writefile <filename>` magic command to creat the required `configuration.json` file.\n",
        "\n",
        "Another -more elegant- option is to make use of python's `json` module to load, edit and save `.json` files. The `json` module loads json formatted text as python dictionaries, where we can access and modify our data easily. Then we can use the `json` module again to `dump` our modified data dictionary as json formatted text again and save it to a new file."
      ]
    },
    {
      "cell_type": "code",
      "execution_count": 17,
      "metadata": {
        "id": "ZrPVEFHB9FEV"
      },
      "outputs": [],
      "source": [
        "%pycat model/symenv/data/double_wishbone_direct_acting_cfg.json"
      ]
    },
    {
      "cell_type": "markdown",
      "metadata": {
        "id": "lLQO2G829FEV"
      },
      "source": [
        "Loading the configuration data using `json` module, and getting access to the `user_inputs` section."
      ]
    },
    {
      "cell_type": "code",
      "execution_count": 18,
      "metadata": {
        "id": "0l5XHssf9FEV"
      },
      "outputs": [],
      "source": [
        "import json\n",
        "\n",
        "with open(\"model/symenv/data/double_wishbone_direct_acting_cfg.json\", \"r\") as f:\n",
        "    json_text = f.read()\n",
        "\n",
        "data = json.loads(json_text)\n",
        "user_inputs = data[\"user_inputs\"]"
      ]
    },
    {
      "cell_type": "markdown",
      "metadata": {
        "id": "JlwYU52Y9FEV"
      },
      "source": [
        "Filling in our numerical configuration data"
      ]
    },
    {
      "cell_type": "code",
      "execution_count": 19,
      "metadata": {
        "id": "Oy-ux4X_9FEV"
      },
      "outputs": [],
      "source": [
        "tire_radius = 467\n",
        "\n",
        "# Upper Control Arm Points\n",
        "# ========================\n",
        "user_inputs[\"hpr_ucaf\"][\"args\"] = [ -48, 446, 245 + tire_radius]\n",
        "user_inputs[\"hpr_ucar\"][\"args\"] = [-268, 478, 196 + tire_radius]\n",
        "user_inputs[\"hpr_ucao\"][\"args\"] = [ -53, 716, 215 + tire_radius]\n",
        "\n",
        "# Lower Control Arm Points\n",
        "# ========================\n",
        "user_inputs[\"hpr_lcaf\"][\"args\"] = [ 223, 307,    0 + tire_radius]\n",
        "user_inputs[\"hpr_lcar\"][\"args\"] = [-223, 307,    0 + tire_radius]\n",
        "user_inputs[\"hpr_lcao\"][\"args\"] = [ -36, 787, -118 + tire_radius]\n",
        "\n",
        "# Tie-Rod Points\n",
        "# ==============\n",
        "user_inputs[\"hpr_tri\"][\"args\"] = [-250, 448, 54 + tire_radius]\n",
        "user_inputs[\"hpr_tro\"][\"args\"] = [-176, 821,-16 + tire_radius]\n",
        "\n",
        "# Spring-Damper Points\n",
        "# ====================\n",
        "user_inputs[\"hpr_strut_chassis\"][\"args\"] = [104, 498, 323 + tire_radius]\n",
        "user_inputs[\"hpr_strut_lca\"][\"args\"]     = [ 97, 543, -47 + tire_radius]\n",
        "\n",
        "# Wheel Center Points\n",
        "# ===================\n",
        "user_inputs[\"hpr_wc\"][\"args\"]  = [ 0,  900, 0 + tire_radius]\n",
        "user_inputs[\"hpr_wc1\"][\"args\"] = [ 0, 1000, 0 + tire_radius]\n",
        "user_inputs[\"hpr_wc2\"][\"args\"] = [ 0,  800, 0 + tire_radius]\n",
        "\n",
        "# Guiding Global Axes\n",
        "# ===================\n",
        "user_inputs[\"vcs_x\"][\"args\"] = [1, 0, 0]\n",
        "user_inputs[\"vcs_y\"][\"args\"] = [0, 1, 0]\n",
        "user_inputs[\"vcs_z\"][\"args\"] = [0, 0, 1]\n",
        "\n",
        "# Scalar Variables\n",
        "# ================\n",
        "user_inputs[\"s_strut_freelength\"] = 339\n",
        "\n",
        "user_inputs[\"s_tire_radius\"] = tire_radius\n",
        "user_inputs[\"s_hub_radius\"]  = tire_radius * 0.25\n",
        "user_inputs[\"s_links_ro\"]    = 15\n",
        "user_inputs[\"s_strut_inner\"] = 25\n",
        "user_inputs[\"s_strut_outer\"] = 35\n",
        "user_inputs[\"s_thickness\"]   = 20\n",
        "user_inputs[\"s_rack_radius\"] = 20\n"
      ]
    },
    {
      "cell_type": "markdown",
      "metadata": {
        "id": "2Hzs-2HQ9FEW"
      },
      "source": [
        "Saving our numerical configuration as `configuration.json` at the required location `numenv/cpp/bin/`."
      ]
    },
    {
      "cell_type": "code",
      "execution_count": 20,
      "metadata": {
        "id": "gYclSFMP9FEW"
      },
      "outputs": [],
      "source": [
        "modified_text = json.dumps(data, indent=4)\n",
        "\n",
        "with open(\"model/numenv/cpp/bin/configuration.json\", \"w\") as output:\n",
        "    output.write(modified_text)"
      ]
    },
    {
      "cell_type": "markdown",
      "metadata": {
        "id": "ZP_fkMnM9FEW"
      },
      "source": [
        "### Run the Simulation Executable"
      ]
    },
    {
      "cell_type": "code",
      "execution_count": 21,
      "metadata": {
        "colab": {
          "base_uri": "https://localhost:8080/"
        },
        "id": "7MBfdI_wlba_",
        "outputId": "2b2e750b-4307-4920-8ff9-8599078af6ca"
      },
      "outputs": [
        {
          "output_type": "stream",
          "name": "stdout",
          "text": [
            "\n",
            "\n",
            "===========================================\n",
            "Performing Parallel Wheel Travel Simulation\n",
            "===========================================\n",
            "\n",
            "Calling Solver Default Constructor\n",
            "Initiallizing Simulation\n",
            "Calling constructFromJSON\n",
            "Constructing Inputs!\n",
            "map::at\n",
            "Constructor Lambda has no mapped construction method!\n",
            "map::at\n",
            "Constructor Lambda has no mapped construction method!\n",
            "map::at\n",
            "Constructor Lambda has no mapped construction method!\n",
            "map::at\n",
            "Constructor Lambda has no mapped construction method!\n",
            "map::at\n",
            "Constructor Lambda has no mapped construction method!\n",
            "map::at\n",
            "Constructor Lambda has no mapped construction method!\n",
            "map::at\n",
            "Constructor Lambda has no mapped construction method!\n",
            "Inputs Constructed!\n",
            "Constructing Helpers!\n",
            "Helpers Constructed!\n",
            "Evaluating Outputs!\n",
            "map::at\n",
            "Argument not initialized! UF_mcr_wheel_lock\n",
            "map::at\n",
            "Argument not initialized! UF_far_strut_Fs\n",
            "map::at\n",
            "Argument not initialized! UF_far_strut_Fd\n",
            "map::at\n",
            "Argument not initialized! UF_mcr_wheel_travel\n",
            "map::at\n",
            "Argument not initialized! UF_far_tire_F\n",
            "map::at\n",
            "Argument not initialized! UF_far_tire_T\n",
            "Outputs Constructed!\n",
            "\n",
            "Initializing Model!\n",
            "Starting Solver ...\n",
            "\n",
            "Running System Kinematic Analysis: \n",
            "[=======================================>] 99% | CPU Time(s) = 1.931 \n",
            "Finished Solver ... \n",
            "\n",
            "_pos results saved as : parallel_travel_pos.csv\n",
            "\n",
            "_vel results saved as : parallel_travel_vel.csv\n",
            "\n",
            "_acc results saved as : parallel_travel_acc.csv\n",
            "\n",
            "parallel_travel results saved as : parallel_travel.csv\n",
            "\n",
            "\n",
            "===========================================\n",
            "Performing Opposite Wheel Travel Simulation\n",
            "===========================================\n",
            "\n",
            "Calling Solver Default Constructor\n",
            "Initiallizing Simulation\n",
            "Calling constructFromJSON\n",
            "Constructing Inputs!\n",
            "map::at\n",
            "Constructor Lambda has no mapped construction method!\n",
            "map::at\n",
            "Constructor Lambda has no mapped construction method!\n",
            "map::at\n",
            "Constructor Lambda has no mapped construction method!\n",
            "map::at\n",
            "Constructor Lambda has no mapped construction method!\n",
            "map::at\n",
            "Constructor Lambda has no mapped construction method!\n",
            "map::at\n",
            "Constructor Lambda has no mapped construction method!\n",
            "map::at\n",
            "Constructor Lambda has no mapped construction method!\n",
            "Inputs Constructed!\n",
            "Constructing Helpers!\n",
            "Helpers Constructed!\n",
            "Evaluating Outputs!\n",
            "map::at\n",
            "Argument not initialized! UF_mcr_wheel_lock\n",
            "map::at\n",
            "Argument not initialized! UF_far_strut_Fs\n",
            "map::at\n",
            "Argument not initialized! UF_far_strut_Fd\n",
            "map::at\n",
            "Argument not initialized! UF_mcr_wheel_travel\n",
            "map::at\n",
            "Argument not initialized! UF_far_tire_F\n",
            "map::at\n",
            "Argument not initialized! UF_far_tire_T\n",
            "Outputs Constructed!\n",
            "\n",
            "Initializing Model!\n",
            "Starting Solver ...\n",
            "\n",
            "Running System Kinematic Analysis: \n",
            "[=======================================>] 99% | CPU Time(s) = 1.392 \n",
            "Finished Solver ... \n",
            "\n",
            "_pos results saved as : opposite_travel_pos.csv\n",
            "\n",
            "_vel results saved as : opposite_travel_vel.csv\n",
            "\n",
            "_acc results saved as : opposite_travel_acc.csv\n",
            "\n",
            "opposite_travel results saved as : opposite_travel.csv\n",
            "\n",
            "\n",
            "==========================================\n",
            "Performing Steering Rack Travel Simulation\n",
            "==========================================\n",
            "\n",
            "Calling Solver Default Constructor\n",
            "Initiallizing Simulation\n",
            "Calling constructFromJSON\n",
            "Constructing Inputs!\n",
            "map::at\n",
            "Constructor Lambda has no mapped construction method!\n",
            "map::at\n",
            "Constructor Lambda has no mapped construction method!\n",
            "map::at\n",
            "Constructor Lambda has no mapped construction method!\n",
            "map::at\n",
            "Constructor Lambda has no mapped construction method!\n",
            "map::at\n",
            "Constructor Lambda has no mapped construction method!\n",
            "map::at\n",
            "Constructor Lambda has no mapped construction method!\n",
            "map::at\n",
            "Constructor Lambda has no mapped construction method!\n",
            "Inputs Constructed!\n",
            "Constructing Helpers!\n",
            "Helpers Constructed!\n",
            "Evaluating Outputs!\n",
            "map::at\n",
            "Argument not initialized! UF_mcr_wheel_lock\n",
            "map::at\n",
            "Argument not initialized! UF_far_strut_Fs\n",
            "map::at\n",
            "Argument not initialized! UF_far_strut_Fd\n",
            "map::at\n",
            "Argument not initialized! UF_mcr_wheel_travel\n",
            "map::at\n",
            "Argument not initialized! UF_far_tire_F\n",
            "map::at\n",
            "Argument not initialized! UF_far_tire_T\n",
            "Outputs Constructed!\n",
            "\n",
            "Initializing Model!\n",
            "Starting Solver ...\n",
            "\n",
            "Running System Kinematic Analysis: \n",
            "[=======================================>] 99% | CPU Time(s) = 1.291 \n",
            "Finished Solver ... \n",
            "\n",
            "_pos results saved as : rack_travel_pos.csv\n",
            "\n",
            "_vel results saved as : rack_travel_vel.csv\n",
            "\n",
            "_acc results saved as : rack_travel_acc.csv\n",
            "\n",
            "rack_travel results saved as : rack_travel.csv\n"
          ]
        }
      ],
      "source": [
        "!cd model/numenv/cpp/bin/ && ./model"
      ]
    },
    {
      "cell_type": "markdown",
      "metadata": {
        "id": "lnq2Ocwq9FEW"
      },
      "source": [
        "### Test the generated python extension module"
      ]
    },
    {
      "cell_type": "code",
      "execution_count": 22,
      "metadata": {
        "colab": {
          "base_uri": "https://localhost:8080/"
        },
        "id": "umfXtadTh3pf",
        "outputId": "8871d549-271a-4df8-ec63-ceea27d7a81b"
      },
      "outputs": [
        {
          "output_type": "stream",
          "name": "stdout",
          "text": [
            "Writing model/numenv/cpp/bin/main.py\n"
          ]
        }
      ],
      "source": [
        "%%writefile model/numenv/cpp/bin/main.py\n",
        "\n",
        "import numpy as np\n",
        "from simulation import PySimulation\n",
        "\n",
        "# creating a model instance of the wrapped simulation class\n",
        "model = PySimulation()\n",
        "\n",
        "# constructing the numerical configuration from the modified\n",
        "# json file.\n",
        "model.construct_configuration(\"configuration.json\")\n",
        "\n",
        "\n",
        "# defining python functions for the strut stiffness and damping\n",
        "# =============================================================\n",
        "def springForce(x, *args):\n",
        "    force = x * 181.450*1e6 if x >= 0 else 0\n",
        "    return force\n",
        "\n",
        "def damperForce(v, *args):\n",
        "    force = v * 19*1e6\n",
        "    return force\n",
        "\n",
        "model.set_UF_far_strut_Fs(springForce)\n",
        "model.set_UF_far_strut_Fd(damperForce)\n",
        "\n",
        "model.set_UF_fal_strut_Fs(springForce)\n",
        "model.set_UF_fal_strut_Fd(damperForce)\n",
        "\n",
        "# =================================================================\n",
        "\n",
        "\n",
        "\n",
        "# =================================================================\n",
        "#           Performing Parallel Wheel Travel Simulation\n",
        "# =================================================================\n",
        "\n",
        "# setting the motion actuation functions as python lambda functions\n",
        "# =================================================================\n",
        "model.set_UF_mcr_wheel_lock(lambda t, *args: 0)\n",
        "model.set_UF_mcl_wheel_lock(lambda t, *args: 0)\n",
        "\n",
        "model.set_UF_mcr_wheel_travel(lambda t, *args: 467 + 130*np.sin(t))\n",
        "model.set_UF_mcl_wheel_travel(lambda t, *args: 467 + 130*np.sin(t))\n",
        "\n",
        "model.set_UF_mcs_rack_travel(lambda t, *args: 0)\n",
        "\n",
        "\n",
        "# setting the simulation duration and time step-size\n",
        "# ==================================================\n",
        "model.solve(2*np.pi, 5*1e-3)\n",
        "\n",
        "# saving the simulation results\n",
        "# =============================\n",
        "model.save_results(\"\", \"py_parallel_travel\")\n",
        "\n",
        "# =================================================================\n",
        "\n",
        "\n",
        "\n",
        "# =================================================================\n",
        "#           Performing Opposite Wheel Travel Simulation\n",
        "# =================================================================\n",
        "\n",
        "# setting the motion actuation functions as python lambda functions\n",
        "# =================================================================\n",
        "model.set_UF_mcr_wheel_lock(lambda t, *args: 0)\n",
        "model.set_UF_mcl_wheel_lock(lambda t, *args: 0)\n",
        "\n",
        "model.set_UF_mcr_wheel_travel(lambda t, *args: 467 + 130*np.sin(t))\n",
        "model.set_UF_mcl_wheel_travel(lambda t, *args: 467 - 130*np.sin(t))\n",
        "\n",
        "model.set_UF_mcs_rack_travel(lambda t, *args: 0)\n",
        "\n",
        "\n",
        "# setting the simulation duration and time step-size\n",
        "# ==================================================\n",
        "model.solve(2*np.pi, 5*1e-3)\n",
        "\n",
        "# saving the simulation results\n",
        "# =============================\n",
        "model.save_results(\"\", \"py_opposite_travel\")\n",
        "\n",
        "# =================================================================\n",
        "\n",
        "\n",
        "\n",
        "# =================================================================\n",
        "#           Performing Steering Rack Travel Simulation\n",
        "# =================================================================\n",
        "\n",
        "# setting the motion actuation functions as python lambda functions\n",
        "# =================================================================\n",
        "model.set_UF_mcr_wheel_lock(lambda t, *args: 0)\n",
        "model.set_UF_mcl_wheel_lock(lambda t, *args: 0)\n",
        "\n",
        "model.set_UF_mcr_wheel_travel(lambda t, *args: 467)\n",
        "model.set_UF_mcl_wheel_travel(lambda t, *args: 467)\n",
        "\n",
        "model.set_UF_mcs_rack_travel(lambda t, *args: 50*np.sin(t))\n",
        "\n",
        "\n",
        "# setting the simulation duration and time step-size\n",
        "# ==================================================\n",
        "model.solve(2*np.pi, 5*1e-3)\n",
        "\n",
        "# saving the simulation results\n",
        "# =============================\n",
        "model.save_results(\"\", \"py_rack_travel\")\n",
        "\n",
        "# ================================================================="
      ]
    },
    {
      "cell_type": "markdown",
      "metadata": {
        "id": "-2H9B_st9FEW"
      },
      "source": [
        "### Run main.py python script"
      ]
    },
    {
      "cell_type": "code",
      "execution_count": 23,
      "metadata": {
        "colab": {
          "base_uri": "https://localhost:8080/"
        },
        "id": "w9BCQpm9iT4M",
        "outputId": "87a4e34e-aa8d-452f-fb54-dadd65adb99e"
      },
      "outputs": [
        {
          "output_type": "stream",
          "name": "stdout",
          "text": [
            "Initiallizing Simulation\n",
            "Constructing Inputs!\n",
            "map::at\n",
            "Constructor Lambda has no mapped construction method!\n",
            "map::at\n",
            "Constructor Lambda has no mapped construction method!\n",
            "map::at\n",
            "Constructor Lambda has no mapped construction method!\n",
            "map::at\n",
            "Constructor Lambda has no mapped construction method!\n",
            "map::at\n",
            "Constructor Lambda has no mapped construction method!\n",
            "map::at\n",
            "Constructor Lambda has no mapped construction method!\n",
            "map::at\n",
            "Constructor Lambda has no mapped construction method!\n",
            "Inputs Constructed!\n",
            "Constructing Helpers!\n",
            "Helpers Constructed!\n",
            "Evaluating Outputs!\n",
            "map::at\n",
            "Argument not initialized! UF_mcr_wheel_lock\n",
            "map::at\n",
            "Argument not initialized! UF_far_strut_Fs\n",
            "map::at\n",
            "Argument not initialized! UF_far_strut_Fd\n",
            "map::at\n",
            "Argument not initialized! UF_mcr_wheel_travel\n",
            "map::at\n",
            "Argument not initialized! UF_far_tire_F\n",
            "map::at\n",
            "Argument not initialized! UF_far_tire_T\n",
            "Outputs Constructed!\n",
            "\n",
            "Initializing Model!\n",
            "Starting Solver ...\n",
            "\n",
            "Running System Kinematic Analysis: \n",
            "[=======================================>] 99% | CPU Time(s) = 1.595 \n",
            "Finished Solver ... \n",
            "\n",
            "_pos results saved as : py_parallel_travel_pos.csv\n",
            "\n",
            "_vel results saved as : py_parallel_travel_vel.csv\n",
            "\n",
            "_acc results saved as : py_parallel_travel_acc.csv\n",
            "\n",
            "py_parallel_travel results saved as : py_parallel_travel.csv\n",
            "Starting Solver ...\n",
            "\n",
            "Running System Kinematic Analysis: \n",
            "[=======================================>] 99% | CPU Time(s) = 1.531 \n",
            "Finished Solver ... \n",
            "\n",
            "_pos results saved as : py_opposite_travel_pos.csv\n",
            "\n",
            "_vel results saved as : py_opposite_travel_vel.csv\n",
            "\n",
            "_acc results saved as : py_opposite_travel_acc.csv\n",
            "\n",
            "py_opposite_travel results saved as : py_opposite_travel.csv\n",
            "Starting Solver ...\n",
            "\n",
            "Running System Kinematic Analysis: \n",
            "[=======================================>] 99% | CPU Time(s) = 1.468 \n",
            "Finished Solver ... \n",
            "\n",
            "_pos results saved as : py_rack_travel_pos.csv\n",
            "\n",
            "_vel results saved as : py_rack_travel_vel.csv\n",
            "\n",
            "_acc results saved as : py_rack_travel_acc.csv\n",
            "\n",
            "py_rack_travel results saved as : py_rack_travel.csv\n"
          ]
        }
      ],
      "source": [
        "!cd model/numenv/cpp/bin/ && python main.py"
      ]
    },
    {
      "cell_type": "markdown",
      "metadata": {
        "id": "3E-CQGzP9FEW"
      },
      "source": [
        "---\n",
        "---"
      ]
    },
    {
      "cell_type": "markdown",
      "metadata": {
        "id": "KkMJhzpM9FEW"
      },
      "source": [
        "# 5. **DATA POST-PROCESSING**\n",
        "We can load and plot the simulation results easily too. The `SaveResults` method exports the position, velocities and accelerations of the system generalized coordinates as a `name_pos.csv`, `name_vel.csv`, and `name_acc.csv` respectively. These files can be loaded into a `pandas.DataFrame` object easily where we can do what we wish with the data."
      ]
    },
    {
      "cell_type": "code",
      "execution_count": 24,
      "metadata": {
        "id": "fSQqECBT9FEW"
      },
      "outputs": [],
      "source": [
        "import pandas as pd\n",
        "import matplotlib.pyplot as plt"
      ]
    },
    {
      "cell_type": "code",
      "execution_count": 25,
      "metadata": {
        "id": "skyAzY3Csk2u"
      },
      "outputs": [],
      "source": [
        "parallel_pos_data = pd.read_csv(\"model/numenv/cpp/bin/py_parallel_travel_pos.csv\", index_col=0)"
      ]
    },
    {
      "cell_type": "code",
      "execution_count": 26,
      "metadata": {
        "colab": {
          "base_uri": "https://localhost:8080/",
          "height": 913
        },
        "id": "d6zzDfra9FEX",
        "outputId": "e967e888-80cf-4cc3-e006-4e8395c12e68"
      },
      "outputs": [
        {
          "output_type": "display_data",
          "data": {
            "text/plain": [
              "<Figure size 1000x500 with 1 Axes>"
            ],
            "image/png": "[encoded data removed]"
          },
          "metadata": {}
        },
        {
          "output_type": "display_data",
          "data": {
            "text/plain": [
              "<Figure size 1000x500 with 1 Axes>"
            ],
            "image/png": "[encoded data removed]"
          },
          "metadata": {}
        }
      ],
      "source": [
        "parallel_pos_data.plot(x=\"time\", y=\"rbr_hub.z\", grid=True, figsize=(10,5))\n",
        "parallel_pos_data.plot(x=\"rbr_hub.z\", y=\"rbr_hub.y\", grid=True, figsize=(10,5))\n",
        "plt.show()"
      ]
    },
    {
      "cell_type": "code",
      "execution_count": null,
      "metadata": {
        "id": "4qEBtNSc9FEX"
      },
      "outputs": [],
      "source": []
    },
    {
      "cell_type": "markdown",
      "metadata": {
        "id": "GCHUBBAI9FEX"
      },
      "source": [
        "# 6. **3D Visualization**\n",
        "An extra step we can do here is to visualize and animate our system in 3D. This can be done using the **uraeus.visenv.babylon** visualization environment, which is a JavaScript-based WebGL visualization environment for visualizing multi-body models created using uraeus.\n",
        "\n",
        "Making use of the fact that Colab is fully operational virtual linux machine, we can start a python server in the background running the visualization engine, and make use of the jupyter notebook capabilities to embed an iframe inside cell's output.\n",
        "\n",
        "Just run the cell below, and it should render the visualization environment.\n",
        "\n",
        "*__Note__: In Colab, you can right-click on a given cell and select **view output fullscreen**, this will open the visualization environment in a fullscreen mode.*"
      ]
    },
    {
      "cell_type": "markdown",
      "metadata": {
        "id": "IVAqfk7N9FEX"
      },
      "source": [
        "*__Note__: You have to download the `configuration.json` and the `_pos.csv` from the `numenv/cpp/bin/` directory to your machine, as the **uraeus.visenv.babylon** will prompt a window asking for these files on your physical machine when you try to load a model and/or an animation file.*"
      ]
    },
    {
      "cell_type": "markdown",
      "metadata": {
        "id": "l6Jf_R0t9FEX"
      },
      "source": [
        "The method below assumes a Colab session. This will not work on your local machine."
      ]
    },
    {
      "cell_type": "code",
      "execution_count": 27,
      "metadata": {
        "id": "nW955IbA9FEX"
      },
      "outputs": [],
      "source": [
        "import subprocess\n",
        "process = subprocess.Popen(\"cd uraeus_visenv_babylon && python -m http.server 8000\",\n",
        "                     stdout=subprocess.PIPE, stderr=subprocess.PIPE, shell=True)"
      ]
    },
    {
      "cell_type": "code",
      "execution_count": 28,
      "metadata": {
        "colab": {
          "base_uri": "https://localhost:8080/",
          "height": 53
        },
        "id": "6b9F1dVR9FEX",
        "outputId": "ce02b5ae-9f2e-40c7-eadd-28d37543e112"
      },
      "outputs": [
        {
          "output_type": "stream",
          "name": "stdout",
          "text": [
            "Click on the link below to open the 'visualization window' in a new tab.\n",
            "https://7hn4g3rnkag-496ff2e9c6d22116-8000-colab.googleusercontent.com/\n"
          ]
        }
      ],
      "source": [
        "from google.colab.output import eval_js\n",
        "print(\"Click on the link below to open the 'visualization window' in a new tab.\")\n",
        "print(eval_js(\"google.colab.kernel.proxyPort(8000)\"))"
      ]
    },
    {
      "cell_type": "markdown",
      "metadata": {
        "id": "3E5JbQS99FEX"
      },
      "source": [
        "Another way to view the 'visualization window' is to embed it as an `iframe` inside a cell output as below."
      ]
    },
    {
      "cell_type": "code",
      "execution_count": 29,
      "metadata": {
        "colab": {
          "base_uri": "https://localhost:8080/",
          "height": 521
        },
        "id": "SGc0YlFH9FEX",
        "outputId": "5d6ccd63-faa5-4d25-950e-ae80f10dcb79"
      },
      "outputs": [
        {
          "output_type": "execute_result",
          "data": {
            "text/plain": [
              "<IPython.lib.display.IFrame at 0x7e1fcd642fe0>"
            ],
            "text/html": [
              "\n",
              "        <iframe\n",
              "            width=\"1200\"\n",
              "            height=\"500\"\n",
              "            src=\"https://7hn4g3rnkag-496ff2e9c6d22116-8000-colab.googleusercontent.com/\"\n",
              "            frameborder=\"0\"\n",
              "            allowfullscreen\n",
              "            \n",
              "        ></iframe>\n",
              "        "
            ]
          },
          "metadata": {},
          "execution_count": 29
        }
      ],
      "source": [
        "from IPython.display import IFrame\n",
        "IFrame(eval_js(\"google.colab.kernel.proxyPort(8000)\"), 1200, 500)"
      ]
    },
    {
      "cell_type": "code",
      "execution_count": null,
      "metadata": {
        "id": "8wNBYbpH9FEX"
      },
      "outputs": [],
      "source": []
    }
  ],
  "metadata": {
    "colab": {
      "name": "double_wishbone_direct_acting.ipynb",
      "provenance": []
    },
    "kernelspec": {
      "display_name": "uraeus",
      "language": "python",
      "name": "uraeus"
    },
    "language_info": {
      "codemirror_mode": {
        "name": "ipython",
        "version": 3
      },
      "file_extension": ".py",
      "mimetype": "text/x-python",
      "name": "python",
      "nbconvert_exporter": "python",
      "pygments_lexer": "ipython3",
      "version": "3.7.3"
    }
  },
  "nbformat": 4,
  "nbformat_minor": 0
}